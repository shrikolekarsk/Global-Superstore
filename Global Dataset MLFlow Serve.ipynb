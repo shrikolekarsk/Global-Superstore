{
 "cells": [
  {
   "cell_type": "code",
   "execution_count": 1,
   "id": "98d39f94-253a-4ce9-9fac-9d1dcdd0f19e",
   "metadata": {},
   "outputs": [],
   "source": [
    "import os\n",
    "\n",
    "os.environ['GIT_PYTHON_REFRESH'] = 'quiet'\n",
    "os.environ['MLFLOW_TRACKING_URI'] = 'file:///Users/Shri/MLFlows'"
   ]
  },
  {
   "cell_type": "code",
   "execution_count": 15,
   "id": "074d5f52-8e6f-499b-bce9-379c1b90ec34",
   "metadata": {},
   "outputs": [
    {
     "name": "stdout",
     "output_type": "stream",
     "text": [
      "                             run_id       experiment_id    status  \\\n",
      "0  61fe939980754db9b811d2704545cd66  784773749968643398  FINISHED   \n",
      "1  b71749470d784fb0ad0364a13723e425  784773749968643398  FINISHED   \n",
      "2  63d03a99b42a480796c980884a5d28d6  784773749968643398  FINISHED   \n",
      "3  a405316a2f8743d8bc820e4230501575  784773749968643398  FINISHED   \n",
      "4  87002b7fd5314a10add9600f2e4fba37  784773749968643398  FINISHED   \n",
      "5  5b6d585b7a434161bbe685213861a520  784773749968643398  FINISHED   \n",
      "6  89c23f40efac43de9e856f02d58c6e44  784773749968643398  FINISHED   \n",
      "7  f4ae7b7bf8cc43fd81725c41f53cb711  784773749968643398  FINISHED   \n",
      "\n",
      "                                        artifact_uri  \\\n",
      "0  file:///C:/Users/Shri/MLFlows/7847737499686433...   \n",
      "1  file:///C:/Users/Shri/MLFlows/7847737499686433...   \n",
      "2  file:///C:/Users/Shri/MLFlows/7847737499686433...   \n",
      "3  file:///C:/Users/Shri/MLFlows/7847737499686433...   \n",
      "4  file:///C:/Users/Shri/MLFlows/7847737499686433...   \n",
      "5  file:///C:/Users/Shri/MLFlows/7847737499686433...   \n",
      "6  file:///C:/Users/Shri/MLFlows/7847737499686433...   \n",
      "7  file:///C:/Users/Shri/MLFlows/7847737499686433...   \n",
      "\n",
      "                        start_time                         end_time  \\\n",
      "0 2025-05-22 04:18:09.397000+00:00 2025-05-22 04:20:42.915000+00:00   \n",
      "1 2025-05-22 02:48:21.402000+00:00 2025-05-22 02:51:30.239000+00:00   \n",
      "2 2025-05-21 05:00:36.084000+00:00 2025-05-21 05:03:47.211000+00:00   \n",
      "3 2025-05-21 04:39:13.521000+00:00 2025-05-21 04:42:12.574000+00:00   \n",
      "4 2025-05-21 04:28:23.596000+00:00 2025-05-21 04:31:11.171000+00:00   \n",
      "5 2025-05-21 04:21:08.113000+00:00 2025-05-21 04:23:42.049000+00:00   \n",
      "6 2025-05-21 03:22:30.935000+00:00 2025-05-21 03:25:13.469000+00:00   \n",
      "7 2025-05-19 03:51:50.506000+00:00 2025-05-19 03:54:34.161000+00:00   \n",
      "\n",
      "   metrics.gbm_training_score  metrics.rf_training_score params.rf_max_depth  \\\n",
      "0                    0.331399                   0.002856                   6   \n",
      "1                    0.332538                   0.003277                   6   \n",
      "2                    0.333255                   0.002007                   6   \n",
      "3                    0.332759                   0.003334                   6   \n",
      "4                    0.332622                   0.003194                   6   \n",
      "5                    0.333307                   0.002816                   6   \n",
      "6                    0.333472                   0.002946                   6   \n",
      "7                    0.331808                   0.002630                   6   \n",
      "\n",
      "  params.gbm_n_estimators params.gbm_max_depth params.gbm_learning_rate  \\\n",
      "0                    3000                    6                     0.01   \n",
      "1                    3000                    6                     0.01   \n",
      "2                    3000                    6                     0.01   \n",
      "3                    3000                    6                     0.01   \n",
      "4                    3000                    6                     0.01   \n",
      "5                    3000                    6                     0.01   \n",
      "6                    3000                    6                     0.01   \n",
      "7                    3000                    6                     0.01   \n",
      "\n",
      "  params.n_estimators params.gbm_minimum_samples_split  \\\n",
      "0                5000                                5   \n",
      "1                5000                                5   \n",
      "2                5000                                5   \n",
      "3                5000                                5   \n",
      "4                5000                                5   \n",
      "5                5000                                5   \n",
      "6                5000                                5   \n",
      "7                5000                                5   \n",
      "\n",
      "  tags.mlflow.source.type                            tags.mlflow.source.name  \\\n",
      "0                   LOCAL  C:\\Users\\Shri\\anaconda3\\Lib\\site-packages\\ipyk...   \n",
      "1                   LOCAL  C:\\Users\\Shri\\anaconda3\\Lib\\site-packages\\ipyk...   \n",
      "2                   LOCAL  C:\\Users\\Shri\\anaconda3\\Lib\\site-packages\\ipyk...   \n",
      "3                   LOCAL  C:\\Users\\Shri\\anaconda3\\Lib\\site-packages\\ipyk...   \n",
      "4                   LOCAL  C:\\Users\\Shri\\anaconda3\\Lib\\site-packages\\ipyk...   \n",
      "5                   LOCAL  C:\\Users\\Shri\\anaconda3\\Lib\\site-packages\\ipyk...   \n",
      "6                   LOCAL  C:\\Users\\Shri\\anaconda3\\Lib\\site-packages\\ipyk...   \n",
      "7                   LOCAL  C:\\Users\\Shri\\anaconda3\\Lib\\site-packages\\ipyk...   \n",
      "\n",
      "  tags.mlflow.user                      tags.mlflow.log-model.history  \\\n",
      "0             Shri  [{\"run_id\": \"61fe939980754db9b811d2704545cd66\"...   \n",
      "1             Shri  [{\"run_id\": \"b71749470d784fb0ad0364a13723e425\"...   \n",
      "2             Shri  [{\"run_id\": \"63d03a99b42a480796c980884a5d28d6\"...   \n",
      "3             Shri  [{\"run_id\": \"a405316a2f8743d8bc820e4230501575\"...   \n",
      "4             Shri  [{\"run_id\": \"87002b7fd5314a10add9600f2e4fba37\"...   \n",
      "5             Shri  [{\"run_id\": \"5b6d585b7a434161bbe685213861a520\"...   \n",
      "6             Shri  [{\"run_id\": \"89c23f40efac43de9e856f02d58c6e44\"...   \n",
      "7             Shri  [{\"run_id\": \"f4ae7b7bf8cc43fd81725c41f53cb711\"...   \n",
      "\n",
      "   tags.mlflow.runName  \n",
      "0  illustrious-yak-156  \n",
      "1   hilarious-swan-754  \n",
      "2        nosy-stag-421  \n",
      "3      sincere-bee-442  \n",
      "4       able-finch-470  \n",
      "5       spiffy-kit-152  \n",
      "6    abundant-mule-456  \n",
      "7    dazzling-bear-949  \n"
     ]
    }
   ],
   "source": [
    "import mlflow\n",
    "\n",
    "all_runs = mlflow.search_runs(search_all_experiments=True)\n",
    "print(all_runs)"
   ]
  },
  {
   "cell_type": "code",
   "execution_count": 9,
   "id": "016274ac-f2a2-4250-9f5c-69ba6ce6406e",
   "metadata": {},
   "outputs": [
    {
     "name": "stdout",
     "output_type": "stream",
     "text": [
      "^C\n"
     ]
    }
   ],
   "source": [
    "!mlflow models serve -p 8003 -m runs:/b71749470d784fb0ad0364a13723e425/random-forest-model  --no-conda"
   ]
  },
  {
   "cell_type": "code",
   "execution_count": 13,
   "id": "a1bd4308-2565-4178-9d06-dac9fdf8bae6",
   "metadata": {},
   "outputs": [
    {
     "name": "stdout",
     "output_type": "stream",
     "text": [
      "^C\n"
     ]
    }
   ],
   "source": [
    "!mlflow models serve -p 8004 -m runs:/b71749470d784fb0ad0364a13723e425/gradient-boosting-model  --no-conda"
   ]
  },
  {
   "cell_type": "code",
   "execution_count": null,
   "id": "5ffed70f-3b34-44b8-b407-6c8cde563ec4",
   "metadata": {},
   "outputs": [],
   "source": []
  }
 ],
 "metadata": {
  "kernelspec": {
   "display_name": "Python 3 (ipykernel)",
   "language": "python",
   "name": "python3"
  },
  "language_info": {
   "codemirror_mode": {
    "name": "ipython",
    "version": 3
   },
   "file_extension": ".py",
   "mimetype": "text/x-python",
   "name": "python",
   "nbconvert_exporter": "python",
   "pygments_lexer": "ipython3",
   "version": "3.12.4"
  }
 },
 "nbformat": 4,
 "nbformat_minor": 5
}
