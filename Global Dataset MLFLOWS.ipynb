{
 "cells": [
  {
   "cell_type": "code",
   "execution_count": 1,
   "id": "c610ddcb-30e5-400c-bf85-942053006ede",
   "metadata": {},
   "outputs": [],
   "source": [
    "# !pip install mlflow"
   ]
  },
  {
   "cell_type": "code",
   "execution_count": 2,
   "id": "aae232e8-0b95-4389-8c8b-11063e224db8",
   "metadata": {},
   "outputs": [],
   "source": [
    "import pandas as pd\n",
    "import numpy as np\n"
   ]
  },
  {
   "cell_type": "code",
   "execution_count": 3,
   "id": "fe994fc6-6295-4294-9de0-63b4f0b99da0",
   "metadata": {},
   "outputs": [],
   "source": [
    "df=pd.read_excel(r\"D:\\Quality Thought\\Internship\\Data Sets\\Global Superstore.xls\")"
   ]
  },
  {
   "cell_type": "code",
   "execution_count": 4,
   "id": "a72aabbf-9c62-433b-b8ed-74b6077e2ec6",
   "metadata": {},
   "outputs": [
    {
     "data": {
      "text/html": [
       "<div>\n",
       "<style scoped>\n",
       "    .dataframe tbody tr th:only-of-type {\n",
       "        vertical-align: middle;\n",
       "    }\n",
       "\n",
       "    .dataframe tbody tr th {\n",
       "        vertical-align: top;\n",
       "    }\n",
       "\n",
       "    .dataframe thead th {\n",
       "        text-align: right;\n",
       "    }\n",
       "</style>\n",
       "<table border=\"1\" class=\"dataframe\">\n",
       "  <thead>\n",
       "    <tr style=\"text-align: right;\">\n",
       "      <th></th>\n",
       "      <th>Row ID</th>\n",
       "      <th>Order ID</th>\n",
       "      <th>Order Date</th>\n",
       "      <th>Ship Date</th>\n",
       "      <th>Ship Mode</th>\n",
       "      <th>Customer ID</th>\n",
       "      <th>Customer Name</th>\n",
       "      <th>Segment</th>\n",
       "      <th>City</th>\n",
       "      <th>State</th>\n",
       "      <th>...</th>\n",
       "      <th>Product ID</th>\n",
       "      <th>Category</th>\n",
       "      <th>Sub-Category</th>\n",
       "      <th>Product Name</th>\n",
       "      <th>Sales</th>\n",
       "      <th>Quantity</th>\n",
       "      <th>Discount</th>\n",
       "      <th>Profit</th>\n",
       "      <th>Shipping Cost</th>\n",
       "      <th>Order Priority</th>\n",
       "    </tr>\n",
       "  </thead>\n",
       "  <tbody>\n",
       "    <tr>\n",
       "      <th>0</th>\n",
       "      <td>32298</td>\n",
       "      <td>CA-2012-124891</td>\n",
       "      <td>2012-07-31</td>\n",
       "      <td>2012-07-31</td>\n",
       "      <td>Same Day</td>\n",
       "      <td>RH-19495</td>\n",
       "      <td>Rick Hansen</td>\n",
       "      <td>Consumer</td>\n",
       "      <td>New York City</td>\n",
       "      <td>New York</td>\n",
       "      <td>...</td>\n",
       "      <td>TEC-AC-10003033</td>\n",
       "      <td>Technology</td>\n",
       "      <td>Accessories</td>\n",
       "      <td>Plantronics CS510 - Over-the-Head monaural Wir...</td>\n",
       "      <td>2309.650</td>\n",
       "      <td>7</td>\n",
       "      <td>0.0</td>\n",
       "      <td>762.1845</td>\n",
       "      <td>933.570</td>\n",
       "      <td>Critical</td>\n",
       "    </tr>\n",
       "    <tr>\n",
       "      <th>1</th>\n",
       "      <td>26341</td>\n",
       "      <td>IN-2013-77878</td>\n",
       "      <td>2013-02-05</td>\n",
       "      <td>2013-02-07</td>\n",
       "      <td>Second Class</td>\n",
       "      <td>JR-16210</td>\n",
       "      <td>Justin Ritter</td>\n",
       "      <td>Corporate</td>\n",
       "      <td>Wollongong</td>\n",
       "      <td>New South Wales</td>\n",
       "      <td>...</td>\n",
       "      <td>FUR-CH-10003950</td>\n",
       "      <td>Furniture</td>\n",
       "      <td>Chairs</td>\n",
       "      <td>Novimex Executive Leather Armchair, Black</td>\n",
       "      <td>3709.395</td>\n",
       "      <td>9</td>\n",
       "      <td>0.1</td>\n",
       "      <td>-288.7650</td>\n",
       "      <td>923.630</td>\n",
       "      <td>Critical</td>\n",
       "    </tr>\n",
       "    <tr>\n",
       "      <th>2</th>\n",
       "      <td>25330</td>\n",
       "      <td>IN-2013-71249</td>\n",
       "      <td>2013-10-17</td>\n",
       "      <td>2013-10-18</td>\n",
       "      <td>First Class</td>\n",
       "      <td>CR-12730</td>\n",
       "      <td>Craig Reiter</td>\n",
       "      <td>Consumer</td>\n",
       "      <td>Brisbane</td>\n",
       "      <td>Queensland</td>\n",
       "      <td>...</td>\n",
       "      <td>TEC-PH-10004664</td>\n",
       "      <td>Technology</td>\n",
       "      <td>Phones</td>\n",
       "      <td>Nokia Smart Phone, with Caller ID</td>\n",
       "      <td>5175.171</td>\n",
       "      <td>9</td>\n",
       "      <td>0.1</td>\n",
       "      <td>919.9710</td>\n",
       "      <td>915.490</td>\n",
       "      <td>Medium</td>\n",
       "    </tr>\n",
       "    <tr>\n",
       "      <th>3</th>\n",
       "      <td>13524</td>\n",
       "      <td>ES-2013-1579342</td>\n",
       "      <td>2013-01-28</td>\n",
       "      <td>2013-01-30</td>\n",
       "      <td>First Class</td>\n",
       "      <td>KM-16375</td>\n",
       "      <td>Katherine Murray</td>\n",
       "      <td>Home Office</td>\n",
       "      <td>Berlin</td>\n",
       "      <td>Berlin</td>\n",
       "      <td>...</td>\n",
       "      <td>TEC-PH-10004583</td>\n",
       "      <td>Technology</td>\n",
       "      <td>Phones</td>\n",
       "      <td>Motorola Smart Phone, Cordless</td>\n",
       "      <td>2892.510</td>\n",
       "      <td>5</td>\n",
       "      <td>0.1</td>\n",
       "      <td>-96.5400</td>\n",
       "      <td>910.160</td>\n",
       "      <td>Medium</td>\n",
       "    </tr>\n",
       "    <tr>\n",
       "      <th>4</th>\n",
       "      <td>47221</td>\n",
       "      <td>SG-2013-4320</td>\n",
       "      <td>2013-11-05</td>\n",
       "      <td>2013-11-06</td>\n",
       "      <td>Same Day</td>\n",
       "      <td>RH-9495</td>\n",
       "      <td>Rick Hansen</td>\n",
       "      <td>Consumer</td>\n",
       "      <td>Dakar</td>\n",
       "      <td>Dakar</td>\n",
       "      <td>...</td>\n",
       "      <td>TEC-SHA-10000501</td>\n",
       "      <td>Technology</td>\n",
       "      <td>Copiers</td>\n",
       "      <td>Sharp Wireless Fax, High-Speed</td>\n",
       "      <td>2832.960</td>\n",
       "      <td>8</td>\n",
       "      <td>0.0</td>\n",
       "      <td>311.5200</td>\n",
       "      <td>903.040</td>\n",
       "      <td>Critical</td>\n",
       "    </tr>\n",
       "    <tr>\n",
       "      <th>...</th>\n",
       "      <td>...</td>\n",
       "      <td>...</td>\n",
       "      <td>...</td>\n",
       "      <td>...</td>\n",
       "      <td>...</td>\n",
       "      <td>...</td>\n",
       "      <td>...</td>\n",
       "      <td>...</td>\n",
       "      <td>...</td>\n",
       "      <td>...</td>\n",
       "      <td>...</td>\n",
       "      <td>...</td>\n",
       "      <td>...</td>\n",
       "      <td>...</td>\n",
       "      <td>...</td>\n",
       "      <td>...</td>\n",
       "      <td>...</td>\n",
       "      <td>...</td>\n",
       "      <td>...</td>\n",
       "      <td>...</td>\n",
       "      <td>...</td>\n",
       "    </tr>\n",
       "    <tr>\n",
       "      <th>51285</th>\n",
       "      <td>29002</td>\n",
       "      <td>IN-2014-62366</td>\n",
       "      <td>2014-06-19</td>\n",
       "      <td>2014-06-19</td>\n",
       "      <td>Same Day</td>\n",
       "      <td>KE-16420</td>\n",
       "      <td>Katrina Edelman</td>\n",
       "      <td>Corporate</td>\n",
       "      <td>Kure</td>\n",
       "      <td>Hiroshima</td>\n",
       "      <td>...</td>\n",
       "      <td>OFF-FA-10000746</td>\n",
       "      <td>Office Supplies</td>\n",
       "      <td>Fasteners</td>\n",
       "      <td>Advantus Thumb Tacks, 12 Pack</td>\n",
       "      <td>65.100</td>\n",
       "      <td>5</td>\n",
       "      <td>0.0</td>\n",
       "      <td>4.5000</td>\n",
       "      <td>0.010</td>\n",
       "      <td>Medium</td>\n",
       "    </tr>\n",
       "    <tr>\n",
       "      <th>51286</th>\n",
       "      <td>35398</td>\n",
       "      <td>US-2014-102288</td>\n",
       "      <td>2014-06-20</td>\n",
       "      <td>2014-06-24</td>\n",
       "      <td>Standard Class</td>\n",
       "      <td>ZC-21910</td>\n",
       "      <td>Zuschuss Carroll</td>\n",
       "      <td>Consumer</td>\n",
       "      <td>Houston</td>\n",
       "      <td>Texas</td>\n",
       "      <td>...</td>\n",
       "      <td>OFF-AP-10002906</td>\n",
       "      <td>Office Supplies</td>\n",
       "      <td>Appliances</td>\n",
       "      <td>Hoover Replacement Belt for Commercial Guardsm...</td>\n",
       "      <td>0.444</td>\n",
       "      <td>1</td>\n",
       "      <td>0.8</td>\n",
       "      <td>-1.1100</td>\n",
       "      <td>0.010</td>\n",
       "      <td>Medium</td>\n",
       "    </tr>\n",
       "    <tr>\n",
       "      <th>51287</th>\n",
       "      <td>40470</td>\n",
       "      <td>US-2013-155768</td>\n",
       "      <td>2013-12-02</td>\n",
       "      <td>2013-12-02</td>\n",
       "      <td>Same Day</td>\n",
       "      <td>LB-16795</td>\n",
       "      <td>Laurel Beltran</td>\n",
       "      <td>Home Office</td>\n",
       "      <td>Oxnard</td>\n",
       "      <td>California</td>\n",
       "      <td>...</td>\n",
       "      <td>OFF-EN-10001219</td>\n",
       "      <td>Office Supplies</td>\n",
       "      <td>Envelopes</td>\n",
       "      <td>#10- 4 1/8\" x 9 1/2\" Security-Tint Envelopes</td>\n",
       "      <td>22.920</td>\n",
       "      <td>3</td>\n",
       "      <td>0.0</td>\n",
       "      <td>11.2308</td>\n",
       "      <td>0.010</td>\n",
       "      <td>High</td>\n",
       "    </tr>\n",
       "    <tr>\n",
       "      <th>51288</th>\n",
       "      <td>9596</td>\n",
       "      <td>MX-2012-140767</td>\n",
       "      <td>2012-02-18</td>\n",
       "      <td>2012-02-22</td>\n",
       "      <td>Standard Class</td>\n",
       "      <td>RB-19795</td>\n",
       "      <td>Ross Baird</td>\n",
       "      <td>Home Office</td>\n",
       "      <td>Valinhos</td>\n",
       "      <td>São Paulo</td>\n",
       "      <td>...</td>\n",
       "      <td>OFF-BI-10000806</td>\n",
       "      <td>Office Supplies</td>\n",
       "      <td>Binders</td>\n",
       "      <td>Acco Index Tab, Economy</td>\n",
       "      <td>13.440</td>\n",
       "      <td>2</td>\n",
       "      <td>0.0</td>\n",
       "      <td>2.4000</td>\n",
       "      <td>0.003</td>\n",
       "      <td>Medium</td>\n",
       "    </tr>\n",
       "    <tr>\n",
       "      <th>51289</th>\n",
       "      <td>6147</td>\n",
       "      <td>MX-2012-134460</td>\n",
       "      <td>2012-05-22</td>\n",
       "      <td>2012-05-26</td>\n",
       "      <td>Second Class</td>\n",
       "      <td>MC-18100</td>\n",
       "      <td>Mick Crebagga</td>\n",
       "      <td>Consumer</td>\n",
       "      <td>Tipitapa</td>\n",
       "      <td>Managua</td>\n",
       "      <td>...</td>\n",
       "      <td>OFF-PA-10004155</td>\n",
       "      <td>Office Supplies</td>\n",
       "      <td>Paper</td>\n",
       "      <td>Eaton Computer Printout Paper, 8.5 x 11</td>\n",
       "      <td>61.380</td>\n",
       "      <td>3</td>\n",
       "      <td>0.0</td>\n",
       "      <td>1.8000</td>\n",
       "      <td>0.002</td>\n",
       "      <td>High</td>\n",
       "    </tr>\n",
       "  </tbody>\n",
       "</table>\n",
       "<p>51290 rows × 24 columns</p>\n",
       "</div>"
      ],
      "text/plain": [
       "       Row ID         Order ID Order Date  Ship Date       Ship Mode  \\\n",
       "0       32298   CA-2012-124891 2012-07-31 2012-07-31        Same Day   \n",
       "1       26341    IN-2013-77878 2013-02-05 2013-02-07    Second Class   \n",
       "2       25330    IN-2013-71249 2013-10-17 2013-10-18     First Class   \n",
       "3       13524  ES-2013-1579342 2013-01-28 2013-01-30     First Class   \n",
       "4       47221     SG-2013-4320 2013-11-05 2013-11-06        Same Day   \n",
       "...       ...              ...        ...        ...             ...   \n",
       "51285   29002    IN-2014-62366 2014-06-19 2014-06-19        Same Day   \n",
       "51286   35398   US-2014-102288 2014-06-20 2014-06-24  Standard Class   \n",
       "51287   40470   US-2013-155768 2013-12-02 2013-12-02        Same Day   \n",
       "51288    9596   MX-2012-140767 2012-02-18 2012-02-22  Standard Class   \n",
       "51289    6147   MX-2012-134460 2012-05-22 2012-05-26    Second Class   \n",
       "\n",
       "      Customer ID     Customer Name      Segment           City  \\\n",
       "0        RH-19495       Rick Hansen     Consumer  New York City   \n",
       "1        JR-16210     Justin Ritter    Corporate     Wollongong   \n",
       "2        CR-12730      Craig Reiter     Consumer       Brisbane   \n",
       "3        KM-16375  Katherine Murray  Home Office         Berlin   \n",
       "4         RH-9495       Rick Hansen     Consumer          Dakar   \n",
       "...           ...               ...          ...            ...   \n",
       "51285    KE-16420   Katrina Edelman    Corporate           Kure   \n",
       "51286    ZC-21910  Zuschuss Carroll     Consumer        Houston   \n",
       "51287    LB-16795    Laurel Beltran  Home Office         Oxnard   \n",
       "51288    RB-19795        Ross Baird  Home Office       Valinhos   \n",
       "51289    MC-18100     Mick Crebagga     Consumer       Tipitapa   \n",
       "\n",
       "                 State  ...        Product ID         Category Sub-Category  \\\n",
       "0             New York  ...   TEC-AC-10003033       Technology  Accessories   \n",
       "1      New South Wales  ...   FUR-CH-10003950        Furniture       Chairs   \n",
       "2           Queensland  ...   TEC-PH-10004664       Technology       Phones   \n",
       "3               Berlin  ...   TEC-PH-10004583       Technology       Phones   \n",
       "4                Dakar  ...  TEC-SHA-10000501       Technology      Copiers   \n",
       "...                ...  ...               ...              ...          ...   \n",
       "51285        Hiroshima  ...   OFF-FA-10000746  Office Supplies    Fasteners   \n",
       "51286            Texas  ...   OFF-AP-10002906  Office Supplies   Appliances   \n",
       "51287       California  ...   OFF-EN-10001219  Office Supplies    Envelopes   \n",
       "51288        São Paulo  ...   OFF-BI-10000806  Office Supplies      Binders   \n",
       "51289          Managua  ...   OFF-PA-10004155  Office Supplies        Paper   \n",
       "\n",
       "                                            Product Name     Sales Quantity  \\\n",
       "0      Plantronics CS510 - Over-the-Head monaural Wir...  2309.650        7   \n",
       "1              Novimex Executive Leather Armchair, Black  3709.395        9   \n",
       "2                      Nokia Smart Phone, with Caller ID  5175.171        9   \n",
       "3                         Motorola Smart Phone, Cordless  2892.510        5   \n",
       "4                         Sharp Wireless Fax, High-Speed  2832.960        8   \n",
       "...                                                  ...       ...      ...   \n",
       "51285                      Advantus Thumb Tacks, 12 Pack    65.100        5   \n",
       "51286  Hoover Replacement Belt for Commercial Guardsm...     0.444        1   \n",
       "51287       #10- 4 1/8\" x 9 1/2\" Security-Tint Envelopes    22.920        3   \n",
       "51288                            Acco Index Tab, Economy    13.440        2   \n",
       "51289            Eaton Computer Printout Paper, 8.5 x 11    61.380        3   \n",
       "\n",
       "      Discount    Profit  Shipping Cost  Order Priority  \n",
       "0          0.0  762.1845        933.570        Critical  \n",
       "1          0.1 -288.7650        923.630        Critical  \n",
       "2          0.1  919.9710        915.490          Medium  \n",
       "3          0.1  -96.5400        910.160          Medium  \n",
       "4          0.0  311.5200        903.040        Critical  \n",
       "...        ...       ...            ...             ...  \n",
       "51285      0.0    4.5000          0.010          Medium  \n",
       "51286      0.8   -1.1100          0.010          Medium  \n",
       "51287      0.0   11.2308          0.010            High  \n",
       "51288      0.0    2.4000          0.003          Medium  \n",
       "51289      0.0    1.8000          0.002            High  \n",
       "\n",
       "[51290 rows x 24 columns]"
      ]
     },
     "execution_count": 4,
     "metadata": {},
     "output_type": "execute_result"
    }
   ],
   "source": [
    "df"
   ]
  },
  {
   "cell_type": "code",
   "execution_count": 5,
   "id": "b0ad6af2-71f8-440b-a574-b90664bb35b7",
   "metadata": {},
   "outputs": [
    {
     "data": {
      "text/plain": [
       "(51290, 24)"
      ]
     },
     "execution_count": 5,
     "metadata": {},
     "output_type": "execute_result"
    }
   ],
   "source": [
    "df.shape"
   ]
  },
  {
   "cell_type": "code",
   "execution_count": 6,
   "id": "5e3954ed-b459-4d5a-8f2e-d44ad1563ae6",
   "metadata": {},
   "outputs": [
    {
     "data": {
      "text/plain": [
       "Index(['Row ID', 'Order ID', 'Order Date', 'Ship Date', 'Ship Mode',\n",
       "       'Customer ID', 'Customer Name', 'Segment', 'City', 'State', 'Country',\n",
       "       'Postal Code', 'Market', 'Region', 'Product ID', 'Category',\n",
       "       'Sub-Category', 'Product Name', 'Sales', 'Quantity', 'Discount',\n",
       "       'Profit', 'Shipping Cost', 'Order Priority'],\n",
       "      dtype='object')"
      ]
     },
     "execution_count": 6,
     "metadata": {},
     "output_type": "execute_result"
    }
   ],
   "source": [
    "df.columns"
   ]
  },
  {
   "cell_type": "code",
   "execution_count": 7,
   "id": "ec0bd565-9059-42e8-b59f-7a345a8abeb8",
   "metadata": {},
   "outputs": [
    {
     "data": {
      "text/plain": [
       "Row ID                     int64\n",
       "Order ID                  object\n",
       "Order Date        datetime64[ns]\n",
       "Ship Date         datetime64[ns]\n",
       "Ship Mode                 object\n",
       "Customer ID               object\n",
       "Customer Name             object\n",
       "Segment                   object\n",
       "City                      object\n",
       "State                     object\n",
       "Country                   object\n",
       "Postal Code              float64\n",
       "Market                    object\n",
       "Region                    object\n",
       "Product ID                object\n",
       "Category                  object\n",
       "Sub-Category              object\n",
       "Product Name              object\n",
       "Sales                    float64\n",
       "Quantity                   int64\n",
       "Discount                 float64\n",
       "Profit                   float64\n",
       "Shipping Cost            float64\n",
       "Order Priority            object\n",
       "dtype: object"
      ]
     },
     "execution_count": 7,
     "metadata": {},
     "output_type": "execute_result"
    }
   ],
   "source": [
    "df.dtypes"
   ]
  },
  {
   "cell_type": "code",
   "execution_count": 8,
   "id": "99d5173c-4842-4ce1-855d-5f2912a50735",
   "metadata": {},
   "outputs": [],
   "source": [
    "from matplotlib import pyplot as plt\n",
    "from matplotlib import style\n",
    "import seaborn as sns\n",
    "%matplotlib inline"
   ]
  },
  {
   "cell_type": "code",
   "execution_count": 9,
   "id": "910b8d14-86b0-487b-a2d0-f0d8832511fc",
   "metadata": {},
   "outputs": [],
   "source": [
    "# values outside interquartile range(25% to 75%) is called outlier"
   ]
  },
  {
   "cell_type": "code",
   "execution_count": 10,
   "id": "8bb4b777-e3e6-4c6a-84d5-2199e65ee6e3",
   "metadata": {},
   "outputs": [
    {
     "data": {
      "text/html": [
       "<div>\n",
       "<style scoped>\n",
       "    .dataframe tbody tr th:only-of-type {\n",
       "        vertical-align: middle;\n",
       "    }\n",
       "\n",
       "    .dataframe tbody tr th {\n",
       "        vertical-align: top;\n",
       "    }\n",
       "\n",
       "    .dataframe thead th {\n",
       "        text-align: right;\n",
       "    }\n",
       "</style>\n",
       "<table border=\"1\" class=\"dataframe\">\n",
       "  <thead>\n",
       "    <tr style=\"text-align: right;\">\n",
       "      <th></th>\n",
       "      <th>Row ID</th>\n",
       "      <th>Order Date</th>\n",
       "      <th>Ship Date</th>\n",
       "      <th>Postal Code</th>\n",
       "      <th>Sales</th>\n",
       "      <th>Quantity</th>\n",
       "      <th>Discount</th>\n",
       "      <th>Profit</th>\n",
       "      <th>Shipping Cost</th>\n",
       "    </tr>\n",
       "  </thead>\n",
       "  <tbody>\n",
       "    <tr>\n",
       "      <th>count</th>\n",
       "      <td>51290.00000</td>\n",
       "      <td>51290</td>\n",
       "      <td>51290</td>\n",
       "      <td>9994.000000</td>\n",
       "      <td>51290.000000</td>\n",
       "      <td>51290.000000</td>\n",
       "      <td>51290.000000</td>\n",
       "      <td>51290.000000</td>\n",
       "      <td>51290.000000</td>\n",
       "    </tr>\n",
       "    <tr>\n",
       "      <th>mean</th>\n",
       "      <td>25645.50000</td>\n",
       "      <td>2013-05-11 21:26:49.155781120</td>\n",
       "      <td>2013-05-15 20:42:42.745174528</td>\n",
       "      <td>55190.379428</td>\n",
       "      <td>246.490581</td>\n",
       "      <td>3.476545</td>\n",
       "      <td>0.142908</td>\n",
       "      <td>28.610982</td>\n",
       "      <td>26.375818</td>\n",
       "    </tr>\n",
       "    <tr>\n",
       "      <th>min</th>\n",
       "      <td>1.00000</td>\n",
       "      <td>2011-01-01 00:00:00</td>\n",
       "      <td>2011-01-03 00:00:00</td>\n",
       "      <td>1040.000000</td>\n",
       "      <td>0.444000</td>\n",
       "      <td>1.000000</td>\n",
       "      <td>0.000000</td>\n",
       "      <td>-6599.978000</td>\n",
       "      <td>0.002000</td>\n",
       "    </tr>\n",
       "    <tr>\n",
       "      <th>25%</th>\n",
       "      <td>12823.25000</td>\n",
       "      <td>2012-06-19 00:00:00</td>\n",
       "      <td>2012-06-23 00:00:00</td>\n",
       "      <td>23223.000000</td>\n",
       "      <td>30.758625</td>\n",
       "      <td>2.000000</td>\n",
       "      <td>0.000000</td>\n",
       "      <td>0.000000</td>\n",
       "      <td>2.610000</td>\n",
       "    </tr>\n",
       "    <tr>\n",
       "      <th>50%</th>\n",
       "      <td>25645.50000</td>\n",
       "      <td>2013-07-08 00:00:00</td>\n",
       "      <td>2013-07-12 00:00:00</td>\n",
       "      <td>56430.500000</td>\n",
       "      <td>85.053000</td>\n",
       "      <td>3.000000</td>\n",
       "      <td>0.000000</td>\n",
       "      <td>9.240000</td>\n",
       "      <td>7.790000</td>\n",
       "    </tr>\n",
       "    <tr>\n",
       "      <th>75%</th>\n",
       "      <td>38467.75000</td>\n",
       "      <td>2014-05-22 00:00:00</td>\n",
       "      <td>2014-05-26 00:00:00</td>\n",
       "      <td>90008.000000</td>\n",
       "      <td>251.053200</td>\n",
       "      <td>5.000000</td>\n",
       "      <td>0.200000</td>\n",
       "      <td>36.810000</td>\n",
       "      <td>24.450000</td>\n",
       "    </tr>\n",
       "    <tr>\n",
       "      <th>max</th>\n",
       "      <td>51290.00000</td>\n",
       "      <td>2014-12-31 00:00:00</td>\n",
       "      <td>2015-01-07 00:00:00</td>\n",
       "      <td>99301.000000</td>\n",
       "      <td>22638.480000</td>\n",
       "      <td>14.000000</td>\n",
       "      <td>0.850000</td>\n",
       "      <td>8399.976000</td>\n",
       "      <td>933.570000</td>\n",
       "    </tr>\n",
       "    <tr>\n",
       "      <th>std</th>\n",
       "      <td>14806.29199</td>\n",
       "      <td>NaN</td>\n",
       "      <td>NaN</td>\n",
       "      <td>32063.693350</td>\n",
       "      <td>487.565361</td>\n",
       "      <td>2.278766</td>\n",
       "      <td>0.212280</td>\n",
       "      <td>174.340972</td>\n",
       "      <td>57.296810</td>\n",
       "    </tr>\n",
       "  </tbody>\n",
       "</table>\n",
       "</div>"
      ],
      "text/plain": [
       "            Row ID                     Order Date  \\\n",
       "count  51290.00000                          51290   \n",
       "mean   25645.50000  2013-05-11 21:26:49.155781120   \n",
       "min        1.00000            2011-01-01 00:00:00   \n",
       "25%    12823.25000            2012-06-19 00:00:00   \n",
       "50%    25645.50000            2013-07-08 00:00:00   \n",
       "75%    38467.75000            2014-05-22 00:00:00   \n",
       "max    51290.00000            2014-12-31 00:00:00   \n",
       "std    14806.29199                            NaN   \n",
       "\n",
       "                           Ship Date   Postal Code         Sales  \\\n",
       "count                          51290   9994.000000  51290.000000   \n",
       "mean   2013-05-15 20:42:42.745174528  55190.379428    246.490581   \n",
       "min              2011-01-03 00:00:00   1040.000000      0.444000   \n",
       "25%              2012-06-23 00:00:00  23223.000000     30.758625   \n",
       "50%              2013-07-12 00:00:00  56430.500000     85.053000   \n",
       "75%              2014-05-26 00:00:00  90008.000000    251.053200   \n",
       "max              2015-01-07 00:00:00  99301.000000  22638.480000   \n",
       "std                              NaN  32063.693350    487.565361   \n",
       "\n",
       "           Quantity      Discount        Profit  Shipping Cost  \n",
       "count  51290.000000  51290.000000  51290.000000   51290.000000  \n",
       "mean       3.476545      0.142908     28.610982      26.375818  \n",
       "min        1.000000      0.000000  -6599.978000       0.002000  \n",
       "25%        2.000000      0.000000      0.000000       2.610000  \n",
       "50%        3.000000      0.000000      9.240000       7.790000  \n",
       "75%        5.000000      0.200000     36.810000      24.450000  \n",
       "max       14.000000      0.850000   8399.976000     933.570000  \n",
       "std        2.278766      0.212280    174.340972      57.296810  "
      ]
     },
     "execution_count": 10,
     "metadata": {},
     "output_type": "execute_result"
    }
   ],
   "source": [
    "df.describe()"
   ]
  },
  {
   "cell_type": "code",
   "execution_count": 11,
   "id": "8d822f29-087b-40c4-a873-1d8a6449d310",
   "metadata": {},
   "outputs": [],
   "source": [
    "# Outlier Treatment"
   ]
  },
  {
   "cell_type": "code",
   "execution_count": 12,
   "id": "fb0f7de1-9dca-4ab7-97fb-e5e3f4884a1c",
   "metadata": {},
   "outputs": [
    {
     "data": {
      "text/plain": [
       "{'whiskers': [<matplotlib.lines.Line2D at 0x1e07ba1bcb0>,\n",
       "  <matplotlib.lines.Line2D at 0x1e07ba1bfb0>],\n",
       " 'caps': [<matplotlib.lines.Line2D at 0x1e07ba742f0>,\n",
       "  <matplotlib.lines.Line2D at 0x1e07ba745f0>],\n",
       " 'boxes': [<matplotlib.lines.Line2D at 0x1e07ba1bb90>],\n",
       " 'medians': [<matplotlib.lines.Line2D at 0x1e07ba74920>],\n",
       " 'fliers': [<matplotlib.lines.Line2D at 0x1e07ba74c20>],\n",
       " 'means': []}"
      ]
     },
     "execution_count": 12,
     "metadata": {},
     "output_type": "execute_result"
    },
    {
     "data": {
      "image/png": "[encoded data removed]",
      "text/plain": [
       "<Figure size 640x480 with 1 Axes>"
      ]
     },
     "metadata": {},
     "output_type": "display_data"
    }
   ],
   "source": [
    "plt.boxplot(df[\"Profit\"])"
   ]
  },
  {
   "cell_type": "code",
   "execution_count": 13,
   "id": "e9fd67d0-c5e7-4c7c-b255-8b72ef58558d",
   "metadata": {},
   "outputs": [
    {
     "data": {
      "text/plain": [
       "0.10     -30.5712\n",
       "0.25       0.0000\n",
       "0.50       9.2400\n",
       "0.75      36.8100\n",
       "1.00    8399.9760\n",
       "Name: Profit, dtype: float64"
      ]
     },
     "execution_count": 13,
     "metadata": {},
     "output_type": "execute_result"
    }
   ],
   "source": [
    "df[\"Profit\"].quantile([0.1,0.25,0.5,0.75,1.0])"
   ]
  },
  {
   "cell_type": "code",
   "execution_count": 14,
   "id": "9bbb6c61-545d-4242-8f38-7be7ea9fa1a4",
   "metadata": {},
   "outputs": [
    {
     "data": {
      "text/plain": [
       "(51290, 24)"
      ]
     },
     "execution_count": 14,
     "metadata": {},
     "output_type": "execute_result"
    }
   ],
   "source": [
    "df.shape"
   ]
  },
  {
   "cell_type": "code",
   "execution_count": 15,
   "id": "574f58c1-3cac-4d4d-844a-2d1ae044f59e",
   "metadata": {},
   "outputs": [],
   "source": [
    "df_1=df[(df[\"Profit\"] >=0.0) & (df[\"Profit\"] <=36.8100)]"
   ]
  },
  {
   "cell_type": "code",
   "execution_count": 16,
   "id": "89871e2c-2b05-4593-b10f-9df057369523",
   "metadata": {},
   "outputs": [
    {
     "data": {
      "text/plain": [
       "(25928, 24)"
      ]
     },
     "execution_count": 16,
     "metadata": {},
     "output_type": "execute_result"
    }
   ],
   "source": [
    "df_1.shape"
   ]
  },
  {
   "cell_type": "code",
   "execution_count": 17,
   "id": "90c9edee-22d4-406f-ab38-f877ea2032fb",
   "metadata": {},
   "outputs": [
    {
     "data": {
      "text/plain": [
       "{'whiskers': [<matplotlib.lines.Line2D at 0x1e000094200>,\n",
       "  <matplotlib.lines.Line2D at 0x1e0000944a0>],\n",
       " 'caps': [<matplotlib.lines.Line2D at 0x1e0000947d0>,\n",
       "  <matplotlib.lines.Line2D at 0x1e000094b00>],\n",
       " 'boxes': [<matplotlib.lines.Line2D at 0x1e00003bef0>],\n",
       " 'medians': [<matplotlib.lines.Line2D at 0x1e000094dd0>],\n",
       " 'fliers': [<matplotlib.lines.Line2D at 0x1e000095100>],\n",
       " 'means': []}"
      ]
     },
     "execution_count": 17,
     "metadata": {},
     "output_type": "execute_result"
    },
    {
     "data": {
      "image/png": "[encoded data removed]",
      "text/plain": [
       "<Figure size 640x480 with 1 Axes>"
      ]
     },
     "metadata": {},
     "output_type": "display_data"
    }
   ],
   "source": [
    "plt.boxplot(df_1[\"Profit\"])"
   ]
  },
  {
   "cell_type": "code",
   "execution_count": 18,
   "id": "8894edaf-e584-41c1-93bf-827b705e9de9",
   "metadata": {},
   "outputs": [
    {
     "data": {
      "text/plain": [
       "{'whiskers': [<matplotlib.lines.Line2D at 0x1e0000f8a70>,\n",
       "  <matplotlib.lines.Line2D at 0x1e0000f8c50>],\n",
       " 'caps': [<matplotlib.lines.Line2D at 0x1e0000f8f80>,\n",
       "  <matplotlib.lines.Line2D at 0x1e0000f9280>],\n",
       " 'boxes': [<matplotlib.lines.Line2D at 0x1e00000e2d0>],\n",
       " 'medians': [<matplotlib.lines.Line2D at 0x1e0000f9550>],\n",
       " 'fliers': [<matplotlib.lines.Line2D at 0x1e0000f9850>],\n",
       " 'means': []}"
      ]
     },
     "execution_count": 18,
     "metadata": {},
     "output_type": "execute_result"
    },
    {
     "data": {
      "image/png": "[encoded data removed]",
      "text/plain": [
       "<Figure size 640x480 with 1 Axes>"
      ]
     },
     "metadata": {},
     "output_type": "display_data"
    }
   ],
   "source": [
    "plt.boxplot(df_1[\"Sales\"])"
   ]
  },
  {
   "cell_type": "code",
   "execution_count": 19,
   "id": "89208c7e-adf3-4e15-83fd-128a0eb4795f",
   "metadata": {},
   "outputs": [
    {
     "data": {
      "text/plain": [
       "0.10      12.54\n",
       "0.25      23.64\n",
       "0.50      48.78\n",
       "0.75      96.18\n",
       "1.00    3616.50\n",
       "Name: Sales, dtype: float64"
      ]
     },
     "execution_count": 19,
     "metadata": {},
     "output_type": "execute_result"
    }
   ],
   "source": [
    "df_1[\"Sales\"].quantile([0.1,0.25,0.5,0.75,1.0])"
   ]
  },
  {
   "cell_type": "code",
   "execution_count": 20,
   "id": "e1893f35-ff47-4540-a3d6-42e87c3982d7",
   "metadata": {},
   "outputs": [],
   "source": [
    "df_2=df_1[(df_1[\"Sales\"] >=23.64) & (df_1[\"Sales\"] <=96.18)]"
   ]
  },
  {
   "cell_type": "code",
   "execution_count": 21,
   "id": "8938abf8-d9cd-4006-ae23-75d7ffb313c2",
   "metadata": {},
   "outputs": [
    {
     "data": {
      "text/plain": [
       "(12977, 24)"
      ]
     },
     "execution_count": 21,
     "metadata": {},
     "output_type": "execute_result"
    }
   ],
   "source": [
    "df_2.shape"
   ]
  },
  {
   "cell_type": "code",
   "execution_count": 22,
   "id": "ec200f2a-54fc-4277-974a-81e01ad5b406",
   "metadata": {},
   "outputs": [
    {
     "data": {
      "text/plain": [
       "{'whiskers': [<matplotlib.lines.Line2D at 0x1e000474680>,\n",
       "  <matplotlib.lines.Line2D at 0x1e0004748f0>],\n",
       " 'caps': [<matplotlib.lines.Line2D at 0x1e000474bf0>,\n",
       "  <matplotlib.lines.Line2D at 0x1e000474ef0>],\n",
       " 'boxes': [<matplotlib.lines.Line2D at 0x1e000426ae0>],\n",
       " 'medians': [<matplotlib.lines.Line2D at 0x1e0004751c0>],\n",
       " 'fliers': [<matplotlib.lines.Line2D at 0x1e000475460>],\n",
       " 'means': []}"
      ]
     },
     "execution_count": 22,
     "metadata": {},
     "output_type": "execute_result"
    },
    {
     "data": {
      "image/png": "[encoded data removed]",
      "text/plain": [
       "<Figure size 640x480 with 1 Axes>"
      ]
     },
     "metadata": {},
     "output_type": "display_data"
    }
   ],
   "source": [
    "plt.boxplot(df_2[\"Sales\"])"
   ]
  },
  {
   "cell_type": "code",
   "execution_count": 23,
   "id": "4b8184c3-79ea-4b24-a82b-f5e89694e46a",
   "metadata": {},
   "outputs": [
    {
     "data": {
      "text/plain": [
       "{'whiskers': [<matplotlib.lines.Line2D at 0x1e0004afb00>,\n",
       "  <matplotlib.lines.Line2D at 0x1e0004afc80>],\n",
       " 'caps': [<matplotlib.lines.Line2D at 0x1e00043c080>,\n",
       "  <matplotlib.lines.Line2D at 0x1e0004ec200>],\n",
       " 'boxes': [<matplotlib.lines.Line2D at 0x1e0004af830>],\n",
       " 'medians': [<matplotlib.lines.Line2D at 0x1e0004ec530>],\n",
       " 'fliers': [<matplotlib.lines.Line2D at 0x1e0004ec800>],\n",
       " 'means': []}"
      ]
     },
     "execution_count": 23,
     "metadata": {},
     "output_type": "execute_result"
    },
    {
     "data": {
      "image/png": "[encoded data removed]",
      "text/plain": [
       "<Figure size 640x480 with 1 Axes>"
      ]
     },
     "metadata": {},
     "output_type": "display_data"
    }
   ],
   "source": [
    "plt.boxplot(df_2[\"Quantity\"])"
   ]
  },
  {
   "cell_type": "code",
   "execution_count": 24,
   "id": "b8e505ac-42f3-4f4e-b7da-220858ae0432",
   "metadata": {},
   "outputs": [
    {
     "data": {
      "text/plain": [
       "0.10     1.0\n",
       "0.25     2.0\n",
       "0.50     3.0\n",
       "0.75     4.0\n",
       "1.00    14.0\n",
       "Name: Quantity, dtype: float64"
      ]
     },
     "execution_count": 24,
     "metadata": {},
     "output_type": "execute_result"
    }
   ],
   "source": [
    "df_2[\"Quantity\"].quantile([0.1,0.25,0.5,0.75,1.0])"
   ]
  },
  {
   "cell_type": "code",
   "execution_count": 25,
   "id": "4cf78aec-a260-43b4-ab8a-eba2b5ac8da4",
   "metadata": {},
   "outputs": [],
   "source": [
    "df_3=df_2[(df_2[\"Quantity\"] >=2.0) & (df_2[\"Quantity\"] <=4.0)]"
   ]
  },
  {
   "cell_type": "code",
   "execution_count": 26,
   "id": "1a914b34-40a4-46c1-bb36-35338d1596cf",
   "metadata": {},
   "outputs": [
    {
     "data": {
      "text/plain": [
       "(7906, 24)"
      ]
     },
     "execution_count": 26,
     "metadata": {},
     "output_type": "execute_result"
    }
   ],
   "source": [
    "df_3.shape"
   ]
  },
  {
   "cell_type": "code",
   "execution_count": 27,
   "id": "2f45abd5-6c5c-4531-9211-13398decb6a7",
   "metadata": {},
   "outputs": [
    {
     "data": {
      "text/plain": [
       "{'whiskers': [<matplotlib.lines.Line2D at 0x1e0017ce570>,\n",
       "  <matplotlib.lines.Line2D at 0x1e0017ce840>],\n",
       " 'caps': [<matplotlib.lines.Line2D at 0x1e0017ceb40>,\n",
       "  <matplotlib.lines.Line2D at 0x1e0017cee10>],\n",
       " 'boxes': [<matplotlib.lines.Line2D at 0x1e0017ce360>],\n",
       " 'medians': [<matplotlib.lines.Line2D at 0x1e0017cf110>],\n",
       " 'fliers': [<matplotlib.lines.Line2D at 0x1e0017cf3b0>],\n",
       " 'means': []}"
      ]
     },
     "execution_count": 27,
     "metadata": {},
     "output_type": "execute_result"
    },
    {
     "data": {
      "image/png": "[encoded data removed]",
      "text/plain": [
       "<Figure size 640x480 with 1 Axes>"
      ]
     },
     "metadata": {},
     "output_type": "display_data"
    }
   ],
   "source": [
    "plt.boxplot(df_3[\"Quantity\"])"
   ]
  },
  {
   "cell_type": "code",
   "execution_count": 28,
   "id": "58c32f28-e09f-4044-826b-3ff540f68990",
   "metadata": {},
   "outputs": [
    {
     "data": {
      "text/plain": [
       "{'whiskers': [<matplotlib.lines.Line2D at 0x1e00183aa50>,\n",
       "  <matplotlib.lines.Line2D at 0x1e00183ad50>],\n",
       " 'caps': [<matplotlib.lines.Line2D at 0x1e00183b080>,\n",
       "  <matplotlib.lines.Line2D at 0x1e00183b350>],\n",
       " 'boxes': [<matplotlib.lines.Line2D at 0x1e00183a750>],\n",
       " 'medians': [<matplotlib.lines.Line2D at 0x1e00183b5f0>],\n",
       " 'fliers': [<matplotlib.lines.Line2D at 0x1e00183b8c0>],\n",
       " 'means': []}"
      ]
     },
     "execution_count": 28,
     "metadata": {},
     "output_type": "execute_result"
    },
    {
     "data": {
      "image/png": "[encoded data removed]",
      "text/plain": [
       "<Figure size 640x480 with 1 Axes>"
      ]
     },
     "metadata": {},
     "output_type": "display_data"
    }
   ],
   "source": [
    "plt.boxplot(df_3[\"Shipping Cost\"])"
   ]
  },
  {
   "cell_type": "code",
   "execution_count": 29,
   "id": "0df629dc-11d8-4d23-9e9e-b2df6fa55454",
   "metadata": {},
   "outputs": [
    {
     "data": {
      "text/plain": [
       "0.10     1.72000\n",
       "0.25     2.70000\n",
       "0.50     4.46100\n",
       "0.75     7.23675\n",
       "1.00    47.28000\n",
       "Name: Shipping Cost, dtype: float64"
      ]
     },
     "execution_count": 29,
     "metadata": {},
     "output_type": "execute_result"
    }
   ],
   "source": [
    "df_3[\"Shipping Cost\"].quantile([0.1,0.25,0.5,0.75,1.0])"
   ]
  },
  {
   "cell_type": "code",
   "execution_count": 30,
   "id": "a44c6be9-cb06-4dfe-aae7-ed360b7705c8",
   "metadata": {},
   "outputs": [],
   "source": [
    "df_4=df_3[(df_3[\"Shipping Cost\"] >=2.70) & (df_3[\"Shipping Cost\"] <=7.23675)]"
   ]
  },
  {
   "cell_type": "code",
   "execution_count": 31,
   "id": "b55ad20c-6093-4a71-b745-05ca597e28ef",
   "metadata": {},
   "outputs": [
    {
     "data": {
      "text/plain": [
       "(3953, 24)"
      ]
     },
     "execution_count": 31,
     "metadata": {},
     "output_type": "execute_result"
    }
   ],
   "source": [
    "df_4.shape"
   ]
  },
  {
   "cell_type": "code",
   "execution_count": 32,
   "id": "8d5ec30f-e281-47ae-94b0-3aefbb7a8caa",
   "metadata": {},
   "outputs": [
    {
     "data": {
      "text/plain": [
       "{'whiskers': [<matplotlib.lines.Line2D at 0x1e0006a8b90>,\n",
       "  <matplotlib.lines.Line2D at 0x1e0006a8e60>],\n",
       " 'caps': [<matplotlib.lines.Line2D at 0x1e0006a9190>,\n",
       "  <matplotlib.lines.Line2D at 0x1e0006a9430>],\n",
       " 'boxes': [<matplotlib.lines.Line2D at 0x1e0006a88f0>],\n",
       " 'medians': [<matplotlib.lines.Line2D at 0x1e0006a9700>],\n",
       " 'fliers': [<matplotlib.lines.Line2D at 0x1e0006a9940>],\n",
       " 'means': []}"
      ]
     },
     "execution_count": 32,
     "metadata": {},
     "output_type": "execute_result"
    },
    {
     "data": {
      "image/png": "[encoded data removed]",
      "text/plain": [
       "<Figure size 640x480 with 1 Axes>"
      ]
     },
     "metadata": {},
     "output_type": "display_data"
    }
   ],
   "source": [
    "plt.boxplot(df_4[\"Shipping Cost\"])"
   ]
  },
  {
   "cell_type": "code",
   "execution_count": 33,
   "id": "61ff6c1d-0cf3-4004-b85b-810ed9ada55d",
   "metadata": {},
   "outputs": [
    {
     "data": {
      "text/html": [
       "<div>\n",
       "<style scoped>\n",
       "    .dataframe tbody tr th:only-of-type {\n",
       "        vertical-align: middle;\n",
       "    }\n",
       "\n",
       "    .dataframe tbody tr th {\n",
       "        vertical-align: top;\n",
       "    }\n",
       "\n",
       "    .dataframe thead th {\n",
       "        text-align: right;\n",
       "    }\n",
       "</style>\n",
       "<table border=\"1\" class=\"dataframe\">\n",
       "  <thead>\n",
       "    <tr style=\"text-align: right;\">\n",
       "      <th></th>\n",
       "      <th>Row ID</th>\n",
       "      <th>Order ID</th>\n",
       "      <th>Order Date</th>\n",
       "      <th>Ship Date</th>\n",
       "      <th>Ship Mode</th>\n",
       "      <th>Customer ID</th>\n",
       "      <th>Customer Name</th>\n",
       "      <th>Segment</th>\n",
       "      <th>City</th>\n",
       "      <th>State</th>\n",
       "      <th>...</th>\n",
       "      <th>Product ID</th>\n",
       "      <th>Category</th>\n",
       "      <th>Sub-Category</th>\n",
       "      <th>Product Name</th>\n",
       "      <th>Sales</th>\n",
       "      <th>Quantity</th>\n",
       "      <th>Discount</th>\n",
       "      <th>Profit</th>\n",
       "      <th>Shipping Cost</th>\n",
       "      <th>Order Priority</th>\n",
       "    </tr>\n",
       "  </thead>\n",
       "  <tbody>\n",
       "    <tr>\n",
       "      <th>26583</th>\n",
       "      <td>10778</td>\n",
       "      <td>ES-2014-5617990</td>\n",
       "      <td>2014-09-11</td>\n",
       "      <td>2014-09-12</td>\n",
       "      <td>First Class</td>\n",
       "      <td>LW-16825</td>\n",
       "      <td>Laurel Workman</td>\n",
       "      <td>Corporate</td>\n",
       "      <td>Schiltigheim</td>\n",
       "      <td>Alsace</td>\n",
       "      <td>...</td>\n",
       "      <td>OFF-SU-10003160</td>\n",
       "      <td>Office Supplies</td>\n",
       "      <td>Supplies</td>\n",
       "      <td>Acme Ruler, High Speed</td>\n",
       "      <td>33.420</td>\n",
       "      <td>2</td>\n",
       "      <td>0.0</td>\n",
       "      <td>1.320</td>\n",
       "      <td>7.23</td>\n",
       "      <td>High</td>\n",
       "    </tr>\n",
       "    <tr>\n",
       "      <th>26584</th>\n",
       "      <td>17129</td>\n",
       "      <td>ES-2014-3096832</td>\n",
       "      <td>2014-07-04</td>\n",
       "      <td>2014-07-09</td>\n",
       "      <td>Standard Class</td>\n",
       "      <td>BW-11065</td>\n",
       "      <td>Barry Weirich</td>\n",
       "      <td>Consumer</td>\n",
       "      <td>Catania</td>\n",
       "      <td>Sicily</td>\n",
       "      <td>...</td>\n",
       "      <td>OFF-AR-10002145</td>\n",
       "      <td>Office Supplies</td>\n",
       "      <td>Art</td>\n",
       "      <td>Binney &amp; Smith Sketch Pad, Fluorescent</td>\n",
       "      <td>95.160</td>\n",
       "      <td>2</td>\n",
       "      <td>0.0</td>\n",
       "      <td>4.740</td>\n",
       "      <td>7.23</td>\n",
       "      <td>Medium</td>\n",
       "    </tr>\n",
       "    <tr>\n",
       "      <th>26586</th>\n",
       "      <td>21231</td>\n",
       "      <td>IN-2012-45951</td>\n",
       "      <td>2012-11-02</td>\n",
       "      <td>2012-11-06</td>\n",
       "      <td>Standard Class</td>\n",
       "      <td>JG-15115</td>\n",
       "      <td>Jack Garza</td>\n",
       "      <td>Consumer</td>\n",
       "      <td>Bhopal</td>\n",
       "      <td>Madhya Pradesh</td>\n",
       "      <td>...</td>\n",
       "      <td>OFF-EN-10000315</td>\n",
       "      <td>Office Supplies</td>\n",
       "      <td>Envelopes</td>\n",
       "      <td>Jiffy Business Envelopes, Security-Tint</td>\n",
       "      <td>47.880</td>\n",
       "      <td>3</td>\n",
       "      <td>0.0</td>\n",
       "      <td>9.090</td>\n",
       "      <td>7.23</td>\n",
       "      <td>High</td>\n",
       "    </tr>\n",
       "    <tr>\n",
       "      <th>26587</th>\n",
       "      <td>23945</td>\n",
       "      <td>IN-2012-40547</td>\n",
       "      <td>2012-11-29</td>\n",
       "      <td>2012-11-30</td>\n",
       "      <td>First Class</td>\n",
       "      <td>GT-14710</td>\n",
       "      <td>Greg Tran</td>\n",
       "      <td>Consumer</td>\n",
       "      <td>Adelaide</td>\n",
       "      <td>South Australia</td>\n",
       "      <td>...</td>\n",
       "      <td>OFF-BI-10004685</td>\n",
       "      <td>Office Supplies</td>\n",
       "      <td>Binders</td>\n",
       "      <td>Acco Binder, Economy</td>\n",
       "      <td>40.905</td>\n",
       "      <td>3</td>\n",
       "      <td>0.1</td>\n",
       "      <td>9.495</td>\n",
       "      <td>7.23</td>\n",
       "      <td>High</td>\n",
       "    </tr>\n",
       "    <tr>\n",
       "      <th>26594</th>\n",
       "      <td>31408</td>\n",
       "      <td>CA-2013-128867</td>\n",
       "      <td>2013-11-04</td>\n",
       "      <td>2013-11-11</td>\n",
       "      <td>Standard Class</td>\n",
       "      <td>CL-12565</td>\n",
       "      <td>Clay Ludtke</td>\n",
       "      <td>Consumer</td>\n",
       "      <td>Urbandale</td>\n",
       "      <td>Iowa</td>\n",
       "      <td>...</td>\n",
       "      <td>OFF-AR-10000380</td>\n",
       "      <td>Office Supplies</td>\n",
       "      <td>Art</td>\n",
       "      <td>Hunt PowerHouse Electric Pencil Sharpener, Blue</td>\n",
       "      <td>75.960</td>\n",
       "      <td>2</td>\n",
       "      <td>0.0</td>\n",
       "      <td>22.788</td>\n",
       "      <td>7.23</td>\n",
       "      <td>Medium</td>\n",
       "    </tr>\n",
       "  </tbody>\n",
       "</table>\n",
       "<p>5 rows × 24 columns</p>\n",
       "</div>"
      ],
      "text/plain": [
       "       Row ID         Order ID Order Date  Ship Date       Ship Mode  \\\n",
       "26583   10778  ES-2014-5617990 2014-09-11 2014-09-12     First Class   \n",
       "26584   17129  ES-2014-3096832 2014-07-04 2014-07-09  Standard Class   \n",
       "26586   21231    IN-2012-45951 2012-11-02 2012-11-06  Standard Class   \n",
       "26587   23945    IN-2012-40547 2012-11-29 2012-11-30     First Class   \n",
       "26594   31408   CA-2013-128867 2013-11-04 2013-11-11  Standard Class   \n",
       "\n",
       "      Customer ID   Customer Name    Segment          City            State  \\\n",
       "26583    LW-16825  Laurel Workman  Corporate  Schiltigheim           Alsace   \n",
       "26584    BW-11065   Barry Weirich   Consumer       Catania           Sicily   \n",
       "26586    JG-15115      Jack Garza   Consumer        Bhopal   Madhya Pradesh   \n",
       "26587    GT-14710       Greg Tran   Consumer      Adelaide  South Australia   \n",
       "26594    CL-12565     Clay Ludtke   Consumer     Urbandale             Iowa   \n",
       "\n",
       "       ...       Product ID         Category Sub-Category  \\\n",
       "26583  ...  OFF-SU-10003160  Office Supplies     Supplies   \n",
       "26584  ...  OFF-AR-10002145  Office Supplies          Art   \n",
       "26586  ...  OFF-EN-10000315  Office Supplies    Envelopes   \n",
       "26587  ...  OFF-BI-10004685  Office Supplies      Binders   \n",
       "26594  ...  OFF-AR-10000380  Office Supplies          Art   \n",
       "\n",
       "                                          Product Name   Sales Quantity  \\\n",
       "26583                           Acme Ruler, High Speed  33.420        2   \n",
       "26584           Binney & Smith Sketch Pad, Fluorescent  95.160        2   \n",
       "26586          Jiffy Business Envelopes, Security-Tint  47.880        3   \n",
       "26587                             Acco Binder, Economy  40.905        3   \n",
       "26594  Hunt PowerHouse Electric Pencil Sharpener, Blue  75.960        2   \n",
       "\n",
       "      Discount  Profit  Shipping Cost  Order Priority  \n",
       "26583      0.0   1.320           7.23            High  \n",
       "26584      0.0   4.740           7.23          Medium  \n",
       "26586      0.0   9.090           7.23            High  \n",
       "26587      0.1   9.495           7.23            High  \n",
       "26594      0.0  22.788           7.23          Medium  \n",
       "\n",
       "[5 rows x 24 columns]"
      ]
     },
     "execution_count": 33,
     "metadata": {},
     "output_type": "execute_result"
    }
   ],
   "source": [
    "df_4.head()"
   ]
  },
  {
   "cell_type": "code",
   "execution_count": 34,
   "id": "093a78ca-219d-49c9-bdac-d750b80cb27c",
   "metadata": {},
   "outputs": [],
   "source": [
    "# 1. boxplot => to identify outlier\n",
    "# 2. outlier => simple and effective IQR technique"
   ]
  },
  {
   "cell_type": "code",
   "execution_count": 35,
   "id": "11d7e7cf-60e0-4d92-a04b-973aa465b20f",
   "metadata": {},
   "outputs": [],
   "source": [
    "# Missing value imputations"
   ]
  },
  {
   "cell_type": "code",
   "execution_count": 36,
   "id": "0c8f68e6-1ad6-48d7-abc0-5abe56c24b22",
   "metadata": {},
   "outputs": [
    {
     "data": {
      "text/plain": [
       "Row ID               0\n",
       "Order ID             0\n",
       "Order Date           0\n",
       "Ship Date            0\n",
       "Ship Mode            0\n",
       "Customer ID          0\n",
       "Customer Name        0\n",
       "Segment              0\n",
       "City                 0\n",
       "State                0\n",
       "Country              0\n",
       "Postal Code       3268\n",
       "Market               0\n",
       "Region               0\n",
       "Product ID           0\n",
       "Category             0\n",
       "Sub-Category         0\n",
       "Product Name         0\n",
       "Sales                0\n",
       "Quantity             0\n",
       "Discount             0\n",
       "Profit               0\n",
       "Shipping Cost        0\n",
       "Order Priority       0\n",
       "dtype: int64"
      ]
     },
     "execution_count": 36,
     "metadata": {},
     "output_type": "execute_result"
    }
   ],
   "source": [
    "df_4.isnull().sum()"
   ]
  },
  {
   "cell_type": "code",
   "execution_count": 37,
   "id": "48ba71b6-ba89-496a-9258-981d32298472",
   "metadata": {},
   "outputs": [
    {
     "name": "stderr",
     "output_type": "stream",
     "text": [
      "C:\\Users\\Shri\\AppData\\Local\\Temp\\ipykernel_15132\\3596599742.py:1: SettingWithCopyWarning: \n",
      "A value is trying to be set on a copy of a slice from a DataFrame\n",
      "\n",
      "See the caveats in the documentation: https://pandas.pydata.org/pandas-docs/stable/user_guide/indexing.html#returning-a-view-versus-a-copy\n",
      "  df_4.drop([\"Postal Code\"],axis=1,inplace=True)\n"
     ]
    }
   ],
   "source": [
    "df_4.drop([\"Postal Code\"],axis=1,inplace=True)"
   ]
  },
  {
   "cell_type": "code",
   "execution_count": 38,
   "id": "dc67ddc2-e916-4d03-a486-f20e20d19e16",
   "metadata": {},
   "outputs": [
    {
     "data": {
      "text/plain": [
       "Row ID            0\n",
       "Order ID          0\n",
       "Order Date        0\n",
       "Ship Date         0\n",
       "Ship Mode         0\n",
       "Customer ID       0\n",
       "Customer Name     0\n",
       "Segment           0\n",
       "City              0\n",
       "State             0\n",
       "Country           0\n",
       "Market            0\n",
       "Region            0\n",
       "Product ID        0\n",
       "Category          0\n",
       "Sub-Category      0\n",
       "Product Name      0\n",
       "Sales             0\n",
       "Quantity          0\n",
       "Discount          0\n",
       "Profit            0\n",
       "Shipping Cost     0\n",
       "Order Priority    0\n",
       "dtype: int64"
      ]
     },
     "execution_count": 38,
     "metadata": {},
     "output_type": "execute_result"
    }
   ],
   "source": [
    "df_4.isnull().sum()\n"
   ]
  },
  {
   "cell_type": "code",
   "execution_count": 39,
   "id": "ffaa036c-d090-4c2d-893a-15b5435345a6",
   "metadata": {},
   "outputs": [],
   "source": [
    "df4_num=df_4.select_dtypes(include=[np.number])"
   ]
  },
  {
   "cell_type": "code",
   "execution_count": 40,
   "id": "1804129d-c7bc-4faa-a3a6-d6fa4eea65b8",
   "metadata": {},
   "outputs": [],
   "source": [
    "df4_cat=df_4.select_dtypes(include=[\"object\"])"
   ]
  },
  {
   "cell_type": "code",
   "execution_count": 41,
   "id": "45fe5b05-f30a-4db3-9b44-33b157fb0cb9",
   "metadata": {},
   "outputs": [
    {
     "data": {
      "text/plain": [
       "Index(['Row ID', 'Sales', 'Quantity', 'Discount', 'Profit', 'Shipping Cost'], dtype='object')"
      ]
     },
     "execution_count": 41,
     "metadata": {},
     "output_type": "execute_result"
    }
   ],
   "source": [
    "df4_num.columns"
   ]
  },
  {
   "cell_type": "code",
   "execution_count": 42,
   "id": "3e187713-4339-43fc-b8eb-2f2f7ce3147f",
   "metadata": {},
   "outputs": [
    {
     "data": {
      "text/plain": [
       "Index(['Order ID', 'Ship Mode', 'Customer ID', 'Customer Name', 'Segment',\n",
       "       'City', 'State', 'Country', 'Market', 'Region', 'Product ID',\n",
       "       'Category', 'Sub-Category', 'Product Name', 'Order Priority'],\n",
       "      dtype='object')"
      ]
     },
     "execution_count": 42,
     "metadata": {},
     "output_type": "execute_result"
    }
   ],
   "source": [
    "df4_cat.columns"
   ]
  },
  {
   "cell_type": "code",
   "execution_count": 43,
   "id": "51758f0b-016d-44dc-b8a4-68c4d093d9a2",
   "metadata": {},
   "outputs": [],
   "source": [
    "# encoding, scaling"
   ]
  },
  {
   "cell_type": "code",
   "execution_count": 44,
   "id": "4f5940f0-34b0-425b-a024-ca92d9f56b9e",
   "metadata": {},
   "outputs": [],
   "source": [
    "df4_num.drop(['Row ID'],axis=1,inplace=True)"
   ]
  },
  {
   "cell_type": "code",
   "execution_count": 45,
   "id": "a5c41017-35c9-46db-9166-1c3e09f2c67a",
   "metadata": {},
   "outputs": [],
   "source": [
    "from sklearn import preprocessing"
   ]
  },
  {
   "cell_type": "code",
   "execution_count": 46,
   "id": "b3dfc9aa-d496-46ea-a08f-a4a38f5023bb",
   "metadata": {},
   "outputs": [],
   "source": [
    "le=preprocessing.LabelEncoder()"
   ]
  },
  {
   "cell_type": "code",
   "execution_count": 47,
   "id": "cacc20fc-4a1f-400f-83dc-6fccc6dd3369",
   "metadata": {},
   "outputs": [],
   "source": [
    "mm_scaler = preprocessing.MinMaxScaler()"
   ]
  },
  {
   "cell_type": "code",
   "execution_count": 48,
   "id": "ad1ab791-fcd7-47ec-bb6f-8c6572d0d22e",
   "metadata": {},
   "outputs": [],
   "source": [
    "df4_cat_e =df4_cat.apply(le.fit_transform)"
   ]
  },
  {
   "cell_type": "code",
   "execution_count": 49,
   "id": "6fa27c56-ae9b-4a49-92ae-0f36b262ad2d",
   "metadata": {},
   "outputs": [
    {
     "data": {
      "text/plain": [
       "Index(['Sales', 'Quantity', 'Discount', 'Profit', 'Shipping Cost'], dtype='object')"
      ]
     },
     "execution_count": 49,
     "metadata": {},
     "output_type": "execute_result"
    }
   ],
   "source": [
    "df4_num.columns"
   ]
  },
  {
   "cell_type": "code",
   "execution_count": 50,
   "id": "34b6bbe3-8714-4aba-ad14-5c6e45a94a45",
   "metadata": {},
   "outputs": [],
   "source": [
    "df4_num_mm =mm_scaler.fit_transform(df4_num)"
   ]
  },
  {
   "cell_type": "code",
   "execution_count": 51,
   "id": "001d1f92-6cbf-49ed-8450-692846c55e16",
   "metadata": {},
   "outputs": [],
   "source": [
    "df4_num_mm_sc=pd.DataFrame(df4_num_mm)\n"
   ]
  },
  {
   "cell_type": "code",
   "execution_count": 52,
   "id": "335dbbd6-ea1a-493a-bfcc-190130c6e9eb",
   "metadata": {},
   "outputs": [
    {
     "data": {
      "text/html": [
       "<div>\n",
       "<style scoped>\n",
       "    .dataframe tbody tr th:only-of-type {\n",
       "        vertical-align: middle;\n",
       "    }\n",
       "\n",
       "    .dataframe tbody tr th {\n",
       "        vertical-align: top;\n",
       "    }\n",
       "\n",
       "    .dataframe thead th {\n",
       "        text-align: right;\n",
       "    }\n",
       "</style>\n",
       "<table border=\"1\" class=\"dataframe\">\n",
       "  <thead>\n",
       "    <tr style=\"text-align: right;\">\n",
       "      <th></th>\n",
       "      <th>0</th>\n",
       "      <th>1</th>\n",
       "      <th>2</th>\n",
       "      <th>3</th>\n",
       "      <th>4</th>\n",
       "    </tr>\n",
       "  </thead>\n",
       "  <tbody>\n",
       "    <tr>\n",
       "      <th>0</th>\n",
       "      <td>0.134822</td>\n",
       "      <td>0.0</td>\n",
       "      <td>0.0</td>\n",
       "      <td>0.035948</td>\n",
       "      <td>1.0</td>\n",
       "    </tr>\n",
       "    <tr>\n",
       "      <th>1</th>\n",
       "      <td>0.985939</td>\n",
       "      <td>0.0</td>\n",
       "      <td>0.0</td>\n",
       "      <td>0.129085</td>\n",
       "      <td>1.0</td>\n",
       "    </tr>\n",
       "    <tr>\n",
       "      <th>2</th>\n",
       "      <td>0.334160</td>\n",
       "      <td>0.5</td>\n",
       "      <td>0.0</td>\n",
       "      <td>0.247549</td>\n",
       "      <td>1.0</td>\n",
       "    </tr>\n",
       "    <tr>\n",
       "      <th>3</th>\n",
       "      <td>0.238007</td>\n",
       "      <td>0.5</td>\n",
       "      <td>0.2</td>\n",
       "      <td>0.258578</td>\n",
       "      <td>1.0</td>\n",
       "    </tr>\n",
       "    <tr>\n",
       "      <th>4</th>\n",
       "      <td>0.721257</td>\n",
       "      <td>0.0</td>\n",
       "      <td>0.0</td>\n",
       "      <td>0.620588</td>\n",
       "      <td>1.0</td>\n",
       "    </tr>\n",
       "  </tbody>\n",
       "</table>\n",
       "</div>"
      ],
      "text/plain": [
       "          0    1    2         3    4\n",
       "0  0.134822  0.0  0.0  0.035948  1.0\n",
       "1  0.985939  0.0  0.0  0.129085  1.0\n",
       "2  0.334160  0.5  0.0  0.247549  1.0\n",
       "3  0.238007  0.5  0.2  0.258578  1.0\n",
       "4  0.721257  0.0  0.0  0.620588  1.0"
      ]
     },
     "execution_count": 52,
     "metadata": {},
     "output_type": "execute_result"
    }
   ],
   "source": [
    "df4_num_mm_sc.head()"
   ]
  },
  {
   "cell_type": "code",
   "execution_count": 53,
   "id": "e17d284e-dd4d-4937-a6ba-dee62ff7ddfc",
   "metadata": {},
   "outputs": [
    {
     "data": {
      "text/html": [
       "<div>\n",
       "<style scoped>\n",
       "    .dataframe tbody tr th:only-of-type {\n",
       "        vertical-align: middle;\n",
       "    }\n",
       "\n",
       "    .dataframe tbody tr th {\n",
       "        vertical-align: top;\n",
       "    }\n",
       "\n",
       "    .dataframe thead th {\n",
       "        text-align: right;\n",
       "    }\n",
       "</style>\n",
       "<table border=\"1\" class=\"dataframe\">\n",
       "  <thead>\n",
       "    <tr style=\"text-align: right;\">\n",
       "      <th></th>\n",
       "      <th>Order ID</th>\n",
       "      <th>Ship Mode</th>\n",
       "      <th>Customer ID</th>\n",
       "      <th>Customer Name</th>\n",
       "      <th>Segment</th>\n",
       "      <th>City</th>\n",
       "      <th>State</th>\n",
       "      <th>Country</th>\n",
       "      <th>Market</th>\n",
       "      <th>Region</th>\n",
       "      <th>Product ID</th>\n",
       "      <th>Category</th>\n",
       "      <th>Sub-Category</th>\n",
       "      <th>Product Name</th>\n",
       "      <th>Order Priority</th>\n",
       "    </tr>\n",
       "  </thead>\n",
       "  <tbody>\n",
       "    <tr>\n",
       "      <th>26583</th>\n",
       "      <td>1476</td>\n",
       "      <td>0</td>\n",
       "      <td>706</td>\n",
       "      <td>447</td>\n",
       "      <td>1</td>\n",
       "      <td>1229</td>\n",
       "      <td>19</td>\n",
       "      <td>35</td>\n",
       "      <td>4</td>\n",
       "      <td>3</td>\n",
       "      <td>2160</td>\n",
       "      <td>1</td>\n",
       "      <td>14</td>\n",
       "      <td>79</td>\n",
       "      <td>1</td>\n",
       "    </tr>\n",
       "    <tr>\n",
       "      <th>26584</th>\n",
       "      <td>1359</td>\n",
       "      <td>3</td>\n",
       "      <td>183</td>\n",
       "      <td>70</td>\n",
       "      <td>0</td>\n",
       "      <td>282</td>\n",
       "      <td>497</td>\n",
       "      <td>51</td>\n",
       "      <td>4</td>\n",
       "      <td>10</td>\n",
       "      <td>462</td>\n",
       "      <td>1</td>\n",
       "      <td>2</td>\n",
       "      <td>271</td>\n",
       "      <td>3</td>\n",
       "    </tr>\n",
       "    <tr>\n",
       "      <th>26586</th>\n",
       "      <td>1773</td>\n",
       "      <td>3</td>\n",
       "      <td>544</td>\n",
       "      <td>337</td>\n",
       "      <td>0</td>\n",
       "      <td>176</td>\n",
       "      <td>319</td>\n",
       "      <td>46</td>\n",
       "      <td>0</td>\n",
       "      <td>4</td>\n",
       "      <td>923</td>\n",
       "      <td>1</td>\n",
       "      <td>6</td>\n",
       "      <td>739</td>\n",
       "      <td>1</td>\n",
       "    </tr>\n",
       "    <tr>\n",
       "      <th>26587</th>\n",
       "      <td>1758</td>\n",
       "      <td>0</td>\n",
       "      <td>468</td>\n",
       "      <td>310</td>\n",
       "      <td>0</td>\n",
       "      <td>10</td>\n",
       "      <td>506</td>\n",
       "      <td>4</td>\n",
       "      <td>0</td>\n",
       "      <td>9</td>\n",
       "      <td>826</td>\n",
       "      <td>1</td>\n",
       "      <td>3</td>\n",
       "      <td>27</td>\n",
       "      <td>1</td>\n",
       "    </tr>\n",
       "    <tr>\n",
       "      <th>26594</th>\n",
       "      <td>353</td>\n",
       "      <td>3</td>\n",
       "      <td>232</td>\n",
       "      <td>169</td>\n",
       "      <td>0</td>\n",
       "      <td>1390</td>\n",
       "      <td>246</td>\n",
       "      <td>105</td>\n",
       "      <td>6</td>\n",
       "      <td>3</td>\n",
       "      <td>352</td>\n",
       "      <td>1</td>\n",
       "      <td>2</td>\n",
       "      <td>697</td>\n",
       "      <td>3</td>\n",
       "    </tr>\n",
       "  </tbody>\n",
       "</table>\n",
       "</div>"
      ],
      "text/plain": [
       "       Order ID  Ship Mode  Customer ID  Customer Name  Segment  City  State  \\\n",
       "26583      1476          0          706            447        1  1229     19   \n",
       "26584      1359          3          183             70        0   282    497   \n",
       "26586      1773          3          544            337        0   176    319   \n",
       "26587      1758          0          468            310        0    10    506   \n",
       "26594       353          3          232            169        0  1390    246   \n",
       "\n",
       "       Country  Market  Region  Product ID  Category  Sub-Category  \\\n",
       "26583       35       4       3        2160         1            14   \n",
       "26584       51       4      10         462         1             2   \n",
       "26586       46       0       4         923         1             6   \n",
       "26587        4       0       9         826         1             3   \n",
       "26594      105       6       3         352         1             2   \n",
       "\n",
       "       Product Name  Order Priority  \n",
       "26583            79               1  \n",
       "26584           271               3  \n",
       "26586           739               1  \n",
       "26587            27               1  \n",
       "26594           697               3  "
      ]
     },
     "execution_count": 53,
     "metadata": {},
     "output_type": "execute_result"
    }
   ],
   "source": [
    "df4_cat_e.head()"
   ]
  },
  {
   "cell_type": "code",
   "execution_count": 54,
   "id": "d2f89bae-dd29-47c1-9501-a8762a03bab4",
   "metadata": {},
   "outputs": [],
   "source": [
    "d1=df4_cat_e.reset_index()"
   ]
  },
  {
   "cell_type": "code",
   "execution_count": 55,
   "id": "d54eab78-d5da-4c0b-9693-4fa78148cf98",
   "metadata": {},
   "outputs": [
    {
     "data": {
      "text/html": [
       "<div>\n",
       "<style scoped>\n",
       "    .dataframe tbody tr th:only-of-type {\n",
       "        vertical-align: middle;\n",
       "    }\n",
       "\n",
       "    .dataframe tbody tr th {\n",
       "        vertical-align: top;\n",
       "    }\n",
       "\n",
       "    .dataframe thead th {\n",
       "        text-align: right;\n",
       "    }\n",
       "</style>\n",
       "<table border=\"1\" class=\"dataframe\">\n",
       "  <thead>\n",
       "    <tr style=\"text-align: right;\">\n",
       "      <th></th>\n",
       "      <th>index</th>\n",
       "      <th>Order ID</th>\n",
       "      <th>Ship Mode</th>\n",
       "      <th>Customer ID</th>\n",
       "      <th>Customer Name</th>\n",
       "      <th>Segment</th>\n",
       "      <th>City</th>\n",
       "      <th>State</th>\n",
       "      <th>Country</th>\n",
       "      <th>Market</th>\n",
       "      <th>Region</th>\n",
       "      <th>Product ID</th>\n",
       "      <th>Category</th>\n",
       "      <th>Sub-Category</th>\n",
       "      <th>Product Name</th>\n",
       "      <th>Order Priority</th>\n",
       "    </tr>\n",
       "  </thead>\n",
       "  <tbody>\n",
       "    <tr>\n",
       "      <th>0</th>\n",
       "      <td>26583</td>\n",
       "      <td>1476</td>\n",
       "      <td>0</td>\n",
       "      <td>706</td>\n",
       "      <td>447</td>\n",
       "      <td>1</td>\n",
       "      <td>1229</td>\n",
       "      <td>19</td>\n",
       "      <td>35</td>\n",
       "      <td>4</td>\n",
       "      <td>3</td>\n",
       "      <td>2160</td>\n",
       "      <td>1</td>\n",
       "      <td>14</td>\n",
       "      <td>79</td>\n",
       "      <td>1</td>\n",
       "    </tr>\n",
       "    <tr>\n",
       "      <th>1</th>\n",
       "      <td>26584</td>\n",
       "      <td>1359</td>\n",
       "      <td>3</td>\n",
       "      <td>183</td>\n",
       "      <td>70</td>\n",
       "      <td>0</td>\n",
       "      <td>282</td>\n",
       "      <td>497</td>\n",
       "      <td>51</td>\n",
       "      <td>4</td>\n",
       "      <td>10</td>\n",
       "      <td>462</td>\n",
       "      <td>1</td>\n",
       "      <td>2</td>\n",
       "      <td>271</td>\n",
       "      <td>3</td>\n",
       "    </tr>\n",
       "    <tr>\n",
       "      <th>2</th>\n",
       "      <td>26586</td>\n",
       "      <td>1773</td>\n",
       "      <td>3</td>\n",
       "      <td>544</td>\n",
       "      <td>337</td>\n",
       "      <td>0</td>\n",
       "      <td>176</td>\n",
       "      <td>319</td>\n",
       "      <td>46</td>\n",
       "      <td>0</td>\n",
       "      <td>4</td>\n",
       "      <td>923</td>\n",
       "      <td>1</td>\n",
       "      <td>6</td>\n",
       "      <td>739</td>\n",
       "      <td>1</td>\n",
       "    </tr>\n",
       "    <tr>\n",
       "      <th>3</th>\n",
       "      <td>26587</td>\n",
       "      <td>1758</td>\n",
       "      <td>0</td>\n",
       "      <td>468</td>\n",
       "      <td>310</td>\n",
       "      <td>0</td>\n",
       "      <td>10</td>\n",
       "      <td>506</td>\n",
       "      <td>4</td>\n",
       "      <td>0</td>\n",
       "      <td>9</td>\n",
       "      <td>826</td>\n",
       "      <td>1</td>\n",
       "      <td>3</td>\n",
       "      <td>27</td>\n",
       "      <td>1</td>\n",
       "    </tr>\n",
       "    <tr>\n",
       "      <th>4</th>\n",
       "      <td>26594</td>\n",
       "      <td>353</td>\n",
       "      <td>3</td>\n",
       "      <td>232</td>\n",
       "      <td>169</td>\n",
       "      <td>0</td>\n",
       "      <td>1390</td>\n",
       "      <td>246</td>\n",
       "      <td>105</td>\n",
       "      <td>6</td>\n",
       "      <td>3</td>\n",
       "      <td>352</td>\n",
       "      <td>1</td>\n",
       "      <td>2</td>\n",
       "      <td>697</td>\n",
       "      <td>3</td>\n",
       "    </tr>\n",
       "  </tbody>\n",
       "</table>\n",
       "</div>"
      ],
      "text/plain": [
       "   index  Order ID  Ship Mode  Customer ID  Customer Name  Segment  City  \\\n",
       "0  26583      1476          0          706            447        1  1229   \n",
       "1  26584      1359          3          183             70        0   282   \n",
       "2  26586      1773          3          544            337        0   176   \n",
       "3  26587      1758          0          468            310        0    10   \n",
       "4  26594       353          3          232            169        0  1390   \n",
       "\n",
       "   State  Country  Market  Region  Product ID  Category  Sub-Category  \\\n",
       "0     19       35       4       3        2160         1            14   \n",
       "1    497       51       4      10         462         1             2   \n",
       "2    319       46       0       4         923         1             6   \n",
       "3    506        4       0       9         826         1             3   \n",
       "4    246      105       6       3         352         1             2   \n",
       "\n",
       "   Product Name  Order Priority  \n",
       "0            79               1  \n",
       "1           271               3  \n",
       "2           739               1  \n",
       "3            27               1  \n",
       "4           697               3  "
      ]
     },
     "execution_count": 55,
     "metadata": {},
     "output_type": "execute_result"
    }
   ],
   "source": [
    "d1.head()"
   ]
  },
  {
   "cell_type": "code",
   "execution_count": 56,
   "id": "2ec02da5-4683-4089-be67-e902b8a3f015",
   "metadata": {},
   "outputs": [],
   "source": [
    "d1.drop([\"index\"],axis=1,inplace=True)"
   ]
  },
  {
   "cell_type": "code",
   "execution_count": 57,
   "id": "2efaa21d-c9c2-4943-8096-29af194af258",
   "metadata": {},
   "outputs": [],
   "source": [
    "df_final=pd.concat([df4_num_mm_sc,d1],axis=1)"
   ]
  },
  {
   "cell_type": "code",
   "execution_count": 58,
   "id": "3af779e3-f188-4b2e-837c-c210ae21f244",
   "metadata": {},
   "outputs": [],
   "source": [
    "df_final.rename(columns={0:\"Sales\",1:\"Quantity\",2:\"Discount\",3:\"Profit\",4:\"Shipping Cost\"},inplace=True)"
   ]
  },
  {
   "cell_type": "code",
   "execution_count": 59,
   "id": "2901453f-fb69-4b87-87e0-05f1b9b30aff",
   "metadata": {},
   "outputs": [
    {
     "data": {
      "text/html": [
       "<div>\n",
       "<style scoped>\n",
       "    .dataframe tbody tr th:only-of-type {\n",
       "        vertical-align: middle;\n",
       "    }\n",
       "\n",
       "    .dataframe tbody tr th {\n",
       "        vertical-align: top;\n",
       "    }\n",
       "\n",
       "    .dataframe thead th {\n",
       "        text-align: right;\n",
       "    }\n",
       "</style>\n",
       "<table border=\"1\" class=\"dataframe\">\n",
       "  <thead>\n",
       "    <tr style=\"text-align: right;\">\n",
       "      <th></th>\n",
       "      <th>Sales</th>\n",
       "      <th>Quantity</th>\n",
       "      <th>Discount</th>\n",
       "      <th>Profit</th>\n",
       "      <th>Shipping Cost</th>\n",
       "      <th>Order ID</th>\n",
       "      <th>Ship Mode</th>\n",
       "      <th>Customer ID</th>\n",
       "      <th>Customer Name</th>\n",
       "      <th>Segment</th>\n",
       "      <th>City</th>\n",
       "      <th>State</th>\n",
       "      <th>Country</th>\n",
       "      <th>Market</th>\n",
       "      <th>Region</th>\n",
       "      <th>Product ID</th>\n",
       "      <th>Category</th>\n",
       "      <th>Sub-Category</th>\n",
       "      <th>Product Name</th>\n",
       "      <th>Order Priority</th>\n",
       "    </tr>\n",
       "  </thead>\n",
       "  <tbody>\n",
       "    <tr>\n",
       "      <th>0</th>\n",
       "      <td>0.134822</td>\n",
       "      <td>0.0</td>\n",
       "      <td>0.0</td>\n",
       "      <td>0.035948</td>\n",
       "      <td>1.0</td>\n",
       "      <td>1476</td>\n",
       "      <td>0</td>\n",
       "      <td>706</td>\n",
       "      <td>447</td>\n",
       "      <td>1</td>\n",
       "      <td>1229</td>\n",
       "      <td>19</td>\n",
       "      <td>35</td>\n",
       "      <td>4</td>\n",
       "      <td>3</td>\n",
       "      <td>2160</td>\n",
       "      <td>1</td>\n",
       "      <td>14</td>\n",
       "      <td>79</td>\n",
       "      <td>1</td>\n",
       "    </tr>\n",
       "    <tr>\n",
       "      <th>1</th>\n",
       "      <td>0.985939</td>\n",
       "      <td>0.0</td>\n",
       "      <td>0.0</td>\n",
       "      <td>0.129085</td>\n",
       "      <td>1.0</td>\n",
       "      <td>1359</td>\n",
       "      <td>3</td>\n",
       "      <td>183</td>\n",
       "      <td>70</td>\n",
       "      <td>0</td>\n",
       "      <td>282</td>\n",
       "      <td>497</td>\n",
       "      <td>51</td>\n",
       "      <td>4</td>\n",
       "      <td>10</td>\n",
       "      <td>462</td>\n",
       "      <td>1</td>\n",
       "      <td>2</td>\n",
       "      <td>271</td>\n",
       "      <td>3</td>\n",
       "    </tr>\n",
       "    <tr>\n",
       "      <th>2</th>\n",
       "      <td>0.334160</td>\n",
       "      <td>0.5</td>\n",
       "      <td>0.0</td>\n",
       "      <td>0.247549</td>\n",
       "      <td>1.0</td>\n",
       "      <td>1773</td>\n",
       "      <td>3</td>\n",
       "      <td>544</td>\n",
       "      <td>337</td>\n",
       "      <td>0</td>\n",
       "      <td>176</td>\n",
       "      <td>319</td>\n",
       "      <td>46</td>\n",
       "      <td>0</td>\n",
       "      <td>4</td>\n",
       "      <td>923</td>\n",
       "      <td>1</td>\n",
       "      <td>6</td>\n",
       "      <td>739</td>\n",
       "      <td>1</td>\n",
       "    </tr>\n",
       "    <tr>\n",
       "      <th>3</th>\n",
       "      <td>0.238007</td>\n",
       "      <td>0.5</td>\n",
       "      <td>0.2</td>\n",
       "      <td>0.258578</td>\n",
       "      <td>1.0</td>\n",
       "      <td>1758</td>\n",
       "      <td>0</td>\n",
       "      <td>468</td>\n",
       "      <td>310</td>\n",
       "      <td>0</td>\n",
       "      <td>10</td>\n",
       "      <td>506</td>\n",
       "      <td>4</td>\n",
       "      <td>0</td>\n",
       "      <td>9</td>\n",
       "      <td>826</td>\n",
       "      <td>1</td>\n",
       "      <td>3</td>\n",
       "      <td>27</td>\n",
       "      <td>1</td>\n",
       "    </tr>\n",
       "    <tr>\n",
       "      <th>4</th>\n",
       "      <td>0.721257</td>\n",
       "      <td>0.0</td>\n",
       "      <td>0.0</td>\n",
       "      <td>0.620588</td>\n",
       "      <td>1.0</td>\n",
       "      <td>353</td>\n",
       "      <td>3</td>\n",
       "      <td>232</td>\n",
       "      <td>169</td>\n",
       "      <td>0</td>\n",
       "      <td>1390</td>\n",
       "      <td>246</td>\n",
       "      <td>105</td>\n",
       "      <td>6</td>\n",
       "      <td>3</td>\n",
       "      <td>352</td>\n",
       "      <td>1</td>\n",
       "      <td>2</td>\n",
       "      <td>697</td>\n",
       "      <td>3</td>\n",
       "    </tr>\n",
       "  </tbody>\n",
       "</table>\n",
       "</div>"
      ],
      "text/plain": [
       "      Sales  Quantity  Discount    Profit  Shipping Cost  Order ID  Ship Mode  \\\n",
       "0  0.134822       0.0       0.0  0.035948            1.0      1476          0   \n",
       "1  0.985939       0.0       0.0  0.129085            1.0      1359          3   \n",
       "2  0.334160       0.5       0.0  0.247549            1.0      1773          3   \n",
       "3  0.238007       0.5       0.2  0.258578            1.0      1758          0   \n",
       "4  0.721257       0.0       0.0  0.620588            1.0       353          3   \n",
       "\n",
       "   Customer ID  Customer Name  Segment  City  State  Country  Market  Region  \\\n",
       "0          706            447        1  1229     19       35       4       3   \n",
       "1          183             70        0   282    497       51       4      10   \n",
       "2          544            337        0   176    319       46       0       4   \n",
       "3          468            310        0    10    506        4       0       9   \n",
       "4          232            169        0  1390    246      105       6       3   \n",
       "\n",
       "   Product ID  Category  Sub-Category  Product Name  Order Priority  \n",
       "0        2160         1            14            79               1  \n",
       "1         462         1             2           271               3  \n",
       "2         923         1             6           739               1  \n",
       "3         826         1             3            27               1  \n",
       "4         352         1             2           697               3  "
      ]
     },
     "execution_count": 59,
     "metadata": {},
     "output_type": "execute_result"
    }
   ],
   "source": [
    "df_final.head()"
   ]
  },
  {
   "cell_type": "code",
   "execution_count": 60,
   "id": "cdabfe23-45bb-4d24-b243-c469241136f3",
   "metadata": {},
   "outputs": [
    {
     "data": {
      "text/plain": [
       "Sales             0\n",
       "Quantity          0\n",
       "Discount          0\n",
       "Profit            0\n",
       "Shipping Cost     0\n",
       "Order ID          0\n",
       "Ship Mode         0\n",
       "Customer ID       0\n",
       "Customer Name     0\n",
       "Segment           0\n",
       "City              0\n",
       "State             0\n",
       "Country           0\n",
       "Market            0\n",
       "Region            0\n",
       "Product ID        0\n",
       "Category          0\n",
       "Sub-Category      0\n",
       "Product Name      0\n",
       "Order Priority    0\n",
       "dtype: int64"
      ]
     },
     "execution_count": 60,
     "metadata": {},
     "output_type": "execute_result"
    }
   ],
   "source": [
    "df_final.isnull().sum()"
   ]
  },
  {
   "cell_type": "code",
   "execution_count": 61,
   "id": "e6c5846d-bcd4-4e37-b6da-e229473d092a",
   "metadata": {},
   "outputs": [],
   "source": [
    "Y=df_final[\"Sales\"]"
   ]
  },
  {
   "cell_type": "code",
   "execution_count": 62,
   "id": "3c0396b5-039f-4a83-92ed-0bc4c1b2d000",
   "metadata": {},
   "outputs": [],
   "source": [
    "X=df_final.drop([\"Sales\"],axis=1)"
   ]
  },
  {
   "cell_type": "code",
   "execution_count": 63,
   "id": "580e3a92-8c05-4b58-a90e-6ec1c6265f60",
   "metadata": {},
   "outputs": [],
   "source": [
    "from sklearn.model_selection import train_test_split"
   ]
  },
  {
   "cell_type": "code",
   "execution_count": 64,
   "id": "4591b561-33d2-4881-b1d2-23a43a6f9623",
   "metadata": {},
   "outputs": [],
   "source": [
    "X_train, X_test, y_train, y_test = train_test_split(X, Y, test_size=0.3, random_state=1)"
   ]
  },
  {
   "cell_type": "code",
   "execution_count": 65,
   "id": "ae00fa38-b6b6-4aae-adc5-6c49efbaf904",
   "metadata": {},
   "outputs": [],
   "source": [
    "# MLFLows"
   ]
  },
  {
   "cell_type": "code",
   "execution_count": 66,
   "id": "4cf88d8d-5342-4ae9-ab7f-3d0c435e90a0",
   "metadata": {},
   "outputs": [],
   "source": [
    "import sys\n"
   ]
  },
  {
   "cell_type": "code",
   "execution_count": 67,
   "id": "5f20d539-4480-45af-a60b-880a34dbae2d",
   "metadata": {},
   "outputs": [
    {
     "data": {
      "text/plain": [
       "['C:\\\\Users\\\\Shri',\n",
       " 'C:\\\\Users\\\\Shri\\\\anaconda3\\\\python312.zip',\n",
       " 'C:\\\\Users\\\\Shri\\\\anaconda3\\\\DLLs',\n",
       " 'C:\\\\Users\\\\Shri\\\\anaconda3\\\\Lib',\n",
       " 'C:\\\\Users\\\\Shri\\\\anaconda3',\n",
       " '',\n",
       " 'C:\\\\Users\\\\Shri\\\\anaconda3\\\\Lib\\\\site-packages',\n",
       " 'C:\\\\Users\\\\Shri\\\\anaconda3\\\\Lib\\\\site-packages\\\\win32',\n",
       " 'C:\\\\Users\\\\Shri\\\\anaconda3\\\\Lib\\\\site-packages\\\\win32\\\\lib',\n",
       " 'C:\\\\Users\\\\Shri\\\\anaconda3\\\\Lib\\\\site-packages\\\\Pythonwin']"
      ]
     },
     "execution_count": 67,
     "metadata": {},
     "output_type": "execute_result"
    }
   ],
   "source": [
    "sys.path"
   ]
  },
  {
   "cell_type": "code",
   "execution_count": 68,
   "id": "53c2740e-2530-4a7f-8d1b-361e14a58bec",
   "metadata": {},
   "outputs": [],
   "source": [
    "import os\n",
    "\n",
    "os.environ['GIT_PYTHON_REFRESH'] = 'quiet'\n",
    "os.environ['MLFLOW_TRACKING_URI'] = 'file:///Users/Shri/MLFlows'\n"
   ]
  },
  {
   "cell_type": "code",
   "execution_count": 69,
   "id": "4d7de117-71fe-41a7-ae0f-3def19bb0dbf",
   "metadata": {},
   "outputs": [],
   "source": [
    "import mlflow"
   ]
  },
  {
   "cell_type": "code",
   "execution_count": 70,
   "id": "88b432c5-9a90-4709-b6b7-79af073acbc4",
   "metadata": {},
   "outputs": [],
   "source": [
    "mlflow.set_experiment(\"globalstore-analysis\")\n",
    "mlflow.set_experiment_tag('store-tag','ex1')"
   ]
  },
  {
   "cell_type": "code",
   "execution_count": 71,
   "id": "dc283faf-04a2-4b95-9b52-1f94506ebaf3",
   "metadata": {},
   "outputs": [
    {
     "name": "stderr",
     "output_type": "stream",
     "text": [
      "2025/05/22 09:50:38 WARNING mlflow.models.model: Model logged without a signature and input example. Please set `input_example` parameter when logging the model to auto infer the model signature.\n",
      "2025/05/22 09:50:42 WARNING mlflow.models.model: Model logged without a signature and input example. Please set `input_example` parameter when logging the model to auto infer the model signature.\n"
     ]
    }
   ],
   "source": [
    "with mlflow.start_run():    \n",
    "    from sklearn.ensemble import RandomForestRegressor\n",
    "    from sklearn.ensemble import GradientBoostingRegressor\n",
    "    from sklearn.metrics import r2_score\n",
    "    \n",
    "    # model object initialization\n",
    "    RandFor=RandomForestRegressor(n_estimators=5000,max_depth=6)\n",
    "    GBM=GradientBoostingRegressor(n_estimators=3000,max_depth=6,learning_rate=0.01,min_samples_split=5)\n",
    "    rf_n_estimators=5000\n",
    "    #logging parameters\n",
    "    mlflow.log_param(\"n_estimators\",rf_n_estimators)\n",
    "    mlflow.log_param('rf_max_depth',6)\n",
    "    mlflow.log_param('gbm_n_estimators',3000)\n",
    "    mlflow.log_param('gbm_max_depth',6)\n",
    "    mlflow.log_param('gbm_learning_rate',0.01)\n",
    "    mlflow.log_param('gbm_minimum_samples_split',5)\n",
    "    \n",
    "    #training models\n",
    "    rf=RandFor.fit(X_train,y_train)\n",
    "    gbm=GBM.fit(X_train,y_train)\n",
    "    \n",
    "    #training scores\n",
    "    training_score_rf=RandFor.score(X_train,y_train)\n",
    "    training_score_gbm=GBM.score(X_train,y_train)\n",
    "    \n",
    "    #logging training score\n",
    "    mlflow.log_metric(\"rf_training_score\", training_score_rf)\n",
    "    mlflow.log_metric(\"gbm_training_score\",training_score_gbm)\n",
    "    \n",
    "    #value predictions\n",
    "    y_pred_rf=rf.predict(X_test)\n",
    "    y_pred_gbm=gbm.predict(X_test)\n",
    "    \n",
    "    #prediction evaluations\n",
    "    testing_score_rf=r2_score(y_pred_rf,y_test)\n",
    "    testing_score_gbm=r2_score(y_pred_gbm,y_test)\n",
    "    \n",
    "    #logging evaluation scores\n",
    "    mlflow.log_metric(\"rf_training_score\", testing_score_rf)\n",
    "    mlflow.log_metric(\"gbm_training_score\",testing_score_gbm)\n",
    "    \n",
    "    #logging models\n",
    "    mlflow.sklearn.log_model(rf, \"random-forest-model\")\n",
    "    mlflow.sklearn.log_model(gbm, \"gradient-boosting-model\")\n",
    "\n",
    "    "
   ]
  },
  {
   "cell_type": "code",
   "execution_count": 144,
   "id": "09655a4b-9bd1-49c7-ae1d-e1ea3b9cd44d",
   "metadata": {},
   "outputs": [
    {
     "name": "stdout",
     "output_type": "stream",
     "text": [
      "{'predictions': [0.8192777932351215, 0.4714533441002799, 0.5342414303587928, 0.5489861062254706, 0.6576701382768798, 0.4680012215755022, 0.14404684650963104, 0.2591646128138256, 0.40359436192379056, 0.3634773448303341, 0.1992524518621871, 0.33545982408809555, 0.7131866947504788, 0.20030475507276932, 0.6566480116699198, 0.1367737720243103, 0.27669443990832115, 0.2664851869127495, 0.4929462430383486, 0.17282329541733485, 0.28356736911279073, 0.7054068758772111, 0.2145425651164209, 0.48993626240694277, 0.406370757263381, 0.5992403591966547, 0.17258059686000526, 0.15329419049130807, 0.1400609065419344, 0.15148542581268173, 0.5037705216629151, 0.4150770050471548, 0.14435679790264297, 0.27164263379792214, 0.16508861312326203, 0.6814980876522125, 0.2708570116389405, 0.6993951199542628, 0.40507239353709956, 0.35290387481904356, 0.3759671482257634, 0.6223116558408518, 0.13853533612415606, 0.30651173460872244, 0.47732314273189125, 0.16472245456798354, 0.3602750943160599, 0.2094804726659234, 0.28905474551989135, 0.26017893713896084, 0.7914431870038864, 0.4010709421376707, 0.14038120960406253, 0.6410150891775549, 0.2817871454677138, 0.1426915554531886, 0.1396440709221429, 0.31532018538100415, 0.16562253271141109, 0.3777642883838494, 0.39141513738565864, 0.291188292770657, 0.3983961296776929, 0.485158289678065, 0.17830295666333165, 0.3794316910748269, 0.32328219182566065, 0.17871648973517523, 0.1981858291306665, 0.3370874312464271, 0.4723843889891985, 0.16490314784653345, 0.18524828339233299, 0.313042272762418, 0.4647131743285177, 0.46570461877425795, 0.4689058340526843, 0.15186263386334461, 0.5368265811049441, 0.6912183159852336, 0.5556819825158009, 0.5470451362240768, 0.714358344276172, 0.254304016494163, 0.14961692796908765, 0.3260371206222687, 0.5357925402623982, 0.14016215120590392, 0.45752189635000906, 0.1745517102416968, 0.3624384311161449, 0.17335555410993142, 0.21134230243806068, 0.21665959492572712, 0.3258950894471856, 0.6689729090219133, 0.14164868596477248, 0.35446163650376344, 0.14521473879008523, 0.21238671049691865, 0.5469523825655841, 0.19643072407151022, 0.25540778912843687, 0.6994295611471367, 0.38254470035682986, 0.43489161910570184, 0.2445370305793183, 0.2607319348620508, 0.5995362502959685, 0.4215657281893899, 0.22160466396375628, 0.4033487500844964, 0.360256280875989, 0.4636742982997018, 0.3269806374868588, 0.4286685032234589, 0.4093434372974696, 0.5564515620879564, 0.1381063394670306, 0.21341854314886405, 0.4625135645308743, 0.2924180749102854, 0.6975607568839439, 0.4439197966529803, 0.15037604322243447, 0.2926834432350011, 0.14279923064221953, 0.19200306193612665, 0.519341953047065, 0.4160564394145268, 0.1429720265775567, 0.3367333079939915, 0.19986149720448299, 0.6110810045002151, 0.49242950229496585, 0.2644173843932518, 0.35354594829865293, 0.2339416293544461, 0.14607467069659183, 0.5483884624908987, 0.45297593891812177, 0.19907619258421394, 0.21438069919880667, 0.4303409302412363, 0.5207630414624805, 0.2441473922450581, 0.3383180198615649, 0.1631815919345787, 0.28329512820325187, 0.20547790895306456, 0.23441130437736601, 0.1616049788412896, 0.4308665328167447, 0.4438861536828198, 0.19718968187246805, 0.2755251415560164, 0.2578902997109482, 0.4214657682599632, 0.4783172558353852, 0.4171102838862931, 0.249204661771157, 0.22422233392272095, 0.49113172919698755, 0.434619524684539, 0.29499893028871405, 0.32998843997964583, 0.4169225305549053, 0.41482062206848086, 0.16372600950967123, 0.3238486857528779, 0.32057766792606746, 0.16466679514834792, 0.2835354279943616, 0.1739154231765748, 0.6926160476463911, 0.5865731811691764, 0.19647353119361258, 0.4119859010651828, 0.3910790574982784, 0.4720534133489037, 0.14049339624498294, 0.14640169695628477, 0.2560636047539603, 0.2060448462565788, 0.3261422782407843, 0.1547455813852368, 0.3605291719413717, 0.3455744887653361, 0.5475709850786671, 0.5005144228611889, 0.25597698888446446, 0.2582833980077899, 0.4379524375652755, 0.45410291313910583, 0.6874783683932847, 0.21104519752243456, 0.3212016675209938, 0.1365576947174482, 0.4398049355809678, 0.3215668708288757, 0.6047305056584221, 0.38314161720889617, 0.15505160069726587, 0.14958232246338643, 0.3209673894951445, 0.48107311863152524, 0.5389494376164644, 0.30838938711730224, 0.331312504226944, 0.4448588983038014, 0.4623772762242855, 0.21976741508218925, 0.2216367704189701, 0.5374584402959653, 0.35301982612020877, 0.4674050520867474, 0.24356533609765949, 0.35206681424455144, 0.5789096149889748, 0.28385048588760303, 0.3166743383681983, 0.4295170854323921, 0.2081915387755866, 0.42755230083498075, 0.32491664526214314, 0.4688273402635965, 0.6325152657232064, 0.7165358532237096, 0.3651416438986166, 0.540405773564732, 0.4636070324177379, 0.3607314808624375, 0.7306636332021618, 0.2613023291563152, 0.32555862532359026, 0.3607883840377289, 0.22836894551109202, 0.36491655255862426, 0.2876502992191211, 0.6988345214598115, 0.5134761198147505, 0.25589414216320955, 0.3801758649822068, 0.7756776511355473, 0.20304695761125358, 0.4110293895602467, 0.6578949517526399, 0.4033835949936065, 0.1576730776020143, 0.3328777197105676, 0.4562841342554031, 0.3296131163080275, 0.26492593242541596, 0.4075556492032391, 0.4078067663232642, 0.32264992815130755, 0.5377447486247009, 0.8451421172878941, 0.4577845951890044, 0.2030574973929387, 0.6426162879067278, 0.8210992067416555, 0.17487371071434096, 0.2768204566048828, 0.27982946420392474, 0.45272871248763374, 0.6538245565592549, 0.583461672813095, 0.16566733894297947, 0.4376977690795837, 0.4402276065336421, 0.5445415931319503, 0.2107033056898412, 0.4045580034729567, 0.563055927032641, 0.13856663841960687, 0.5295633341886783, 0.2551441520336623, 0.13721402802669352, 0.38977001289015445, 0.2838728552731101, 0.3098175222970082, 0.20089069071440344, 0.4765947288542153, 0.5413268644990835, 0.2530487738879478, 0.4364386793520748, 0.5145898746083215, 0.164672474265382, 0.18274908114569463, 0.14818710934767498, 0.24896107303192622, 0.35668586033184535, 0.29821332034213544, 0.33790897548407595, 0.250412996425917, 0.4425917083480348, 0.36112978532154666, 0.35247322391575103, 0.4197930657548417, 0.33473301098393615, 0.25607590910727074, 0.5367129859531307, 0.14148951472370808, 0.42896533868351316, 0.7325508758819776, 0.26651526084295113, 0.7541909678040317, 0.20940280991023782, 0.41122041961660954, 0.1496557989738209, 0.5753091077764727, 0.2855522516995572, 0.62588555007852, 0.28214150998205734, 0.3256935404378147, 0.5964753696753075, 0.37271395547124203, 0.48957507276552326, 0.7064832946667773, 0.2370584860939704, 0.40785023189424713, 0.18568389985797792, 0.4370497468834361, 0.4975450225949994, 0.20537716694361238, 0.25979890807010764, 0.2582926932640974, 0.32451970224680976, 0.27386185038749805, 0.14783696177975064, 0.6881128503922405, 0.2681899965090659, 0.22803668327837098, 0.5317987205292403, 0.34377827272082384, 0.1526678718923539, 0.6301117734507158, 0.4786177539790311, 0.5663443227086429, 0.6116263536596068, 0.26987650996103923, 0.1371149471733021, 0.688171187946549, 0.47905420560680495, 0.5776280676969311, 0.6890909034568116, 0.2888440076884121, 0.27172344875594506, 0.7212558579771359, 0.40412726194436843, 0.33265221245442816, 0.6294597724533827, 0.5130782504052233, 0.4639216357263711, 0.32973835973084026, 0.1506478393510464, 0.34951580048332315, 0.3641801737429298, 0.40614067257131053, 0.2583790760654739, 0.2989618076429837, 0.47204319629446384, 0.17570880333889236, 0.6496234776294948, 0.3924045918007523, 0.15215482986144552, 0.5955993106958966, 0.472842620147292, 0.4945682942788038, 0.4492298220504432, 0.16054555040464752, 0.19903311430270107, 0.34902662957147734, 0.14759827946824303, 0.25103578395107146, 0.3754308201352118, 0.5529038480164034, 0.29490916950565854, 0.3898007616926511, 0.46398591736692607, 0.8315283112477584, 0.1899866461513426, 0.13730974139091198, 0.8245809595602984, 0.14128035446651313, 0.20755271428414818, 0.305471154492831, 0.38640379064254116, 0.3608040489488917, 0.2795130811705901, 0.4472058604727157, 0.5896868586547573, 0.4172842242024699, 0.385928418272205, 0.5348882428376133, 0.2751290856947851, 0.5763086699651644, 0.6981215619652309, 0.2674014585223127, 0.43281756070414723, 0.13877051133196192, 0.17378830169994336, 0.14868905177245784, 0.2549378179528129, 0.14929979851295005, 0.15420264804670772, 0.6186873502799395, 0.19447093475365804, 0.3684692990703858, 0.3192800792278252, 0.5866774549031247, 0.176669772030203, 0.24929214583683323, 0.1805846373193743, 0.335295284593916, 0.14553460378629912, 0.5203910420939646, 0.4058892161936907, 0.30110060059031896, 0.5715426603895454, 0.34684873441520814, 0.2832889719410502, 0.23037620172195547, 0.31896974709319054, 0.2673612734666707, 0.495045043602618, 0.45076819131182694, 0.1568469316335548, 0.24206823456128013, 0.29638082326317644, 0.16833618783314377, 0.25193313455162814, 0.20671309438007374, 0.6114282854145212, 0.4667358469173929, 0.5434566661748375, 0.25869700723521544, 0.639067360931148, 0.25946498298849335, 0.3809851324303543, 0.3684912886249959, 0.6636205006547364, 0.24335222637503007, 0.30198389609606363, 0.35123350275411475, 0.14290839917870682, 0.3869030944098386, 0.5842754177408026, 0.14672665788150252, 0.24688441407421155, 0.15509697221306765, 0.18279574127573456, 0.5432342515751316, 0.4100590360170807, 0.4026330781165693, 0.7675102238906506, 0.17916203984413603, 0.35224256150402794, 0.4530574206530894, 0.3376702071044441, 0.6295156785476741, 0.3754444264310977, 0.23111249070459258, 0.6975914673904126, 0.20137011489971907, 0.5733733297288037, 0.2549926986553054, 0.4520150429701191, 0.5239793003192849, 0.3411410488875734, 0.6589021065358099, 0.23191994603668717, 0.17535694330772303, 0.18571538980306068, 0.6977641254826847, 0.16853470635251125, 0.2629824041520765, 0.2308877336400934, 0.3166482045141819, 0.16275492373506953, 0.1476247582432193, 0.4637351456364366, 0.13788656748786488, 0.28510624482188346, 0.4410515293501171, 0.4786434785443622, 0.44641933229292463, 0.25283035496814343, 0.5947119556754322, 0.33247670780499244, 0.41014633932933775, 0.4547108590298425, 0.7158038444555309, 0.2637005159679523, 0.37066382959593847, 0.4702503425691995, 0.3657106349638191, 0.5226023768507118, 0.14499204114219802, 0.15368435519556875, 0.2543625504991212, 0.5382753259702246, 0.1717524262365837, 0.5820304063750591, 0.169696214245505, 0.26676486266991495, 0.441271638608768, 0.32537998909799515, 0.16046557116775992, 0.5047973040375884, 0.5427452040279073, 0.43136482572258084, 0.24807608001982062, 0.2257918285111282, 0.2851123256817532, 0.28158302247549266, 0.2637390870006851, 0.34372107954871833, 0.138225763111751, 0.2659937921555947, 0.5699206449562214, 0.16523744645918878, 0.4308410890296337, 0.6940147209767857, 0.5629600945946026, 0.6373529156638444, 0.6898389130178272, 0.49958970198874486, 0.24970377987831777, 0.6252038773718072, 0.29147956110048806, 0.29078774913428107, 0.709101264545853, 0.35632432497223665, 0.38103377273654526, 0.4754008063786251, 0.5084838802014605, 0.6212389704607859, 0.3215750914898432, 0.7015449281538697, 0.5326320583371094, 0.31624562333559914, 0.21015796431793532, 0.1482860582971379, 0.5319350356270104, 0.3473726706276929, 0.18608246611147214, 0.5762682084265099, 0.7497565923045704, 0.13493814061917625, 0.7688283148280158, 0.3831233116195234, 0.403891583241421, 0.25929356566051104, 0.6981725410756473, 0.4187845078441101, 0.8452672073508621, 0.6185752681638226, 0.2733322539841114, 0.25401679281093664, 0.47663171620805367, 0.2467180577672063, 0.3363878712023785, 0.15550989249711478, 0.3447720122560838, 0.7692571085928831, 0.34188380131431434, 0.5743118143118965, 0.37529928793142603, 0.15282003085129944, 0.526202370506789, 0.39256849787506615, 0.15000909267814377, 0.26813876440024403, 0.7035634918792014, 0.19985968809110696, 0.2547428561585798, 0.28958735825813076, 0.6849897042661711, 0.140334640167117, 0.5750423283776102, 0.29142058760035766, 0.25324933197952393, 0.41977088636228527, 0.3770821204863233, 0.43741317092457266, 0.4560866101804664, 0.49997074968402777, 0.15620734984731588, 0.6960876902851303, 0.19625974923633666, 0.6979495457060966, 0.5302764343703245, 0.17974826415751163, 0.4408776340377178, 0.24580256843203938, 0.45032705104018395, 0.5122930937198078, 0.2557395996238549, 0.5494916189445139, 0.6258436085583743, 0.606449343771155, 0.4256688284356257, 0.15006596440789827, 0.5250209895630604, 0.2765269455262855, 0.6919148634432515, 0.577401794472659, 0.5813313537043885, 0.697752316959721, 0.7457036793994973, 0.28063896672044764, 0.1391110129076466, 0.29282212038380623, 0.5512844212905984, 0.4997307993400629, 0.14226584602391953, 0.26759097250610103, 0.39090875794379176, 0.2002580933029065, 0.35704812410641573, 0.75566771831002, 0.3773530789655007, 0.24807736478584594, 0.5771275718392722, 0.36423452508169485, 0.5319206245043809, 0.7009220241751389, 0.26508431503622243, 0.6876385151311407, 0.3966073570607673, 0.6812662969179942, 0.35480250233174726, 0.3028733602037762, 0.7073916307950647, 0.29844893245505155, 0.6380828449650496, 0.32463616069128387, 0.20233498805314157, 0.43071690345377256, 0.15868685894656806, 0.5924711246899684, 0.7558554993423451, 0.5301232604330844, 0.31586093149189925, 0.6602513283575572, 0.3778337623680728, 0.1468936040041359, 0.1989339395298846, 0.343784160436417, 0.3582645164577718, 0.21158348614490816, 0.4804689955301149, 0.4268929022285478, 0.4121098779583766, 0.2507562105329909, 0.5339719826118556, 0.4850378675991093, 0.4835667078931271, 0.3684851926619293, 0.20179283310004167, 0.25022163411515813, 0.1494583085297057, 0.398911510966087, 0.38004708357374917, 0.510511298405654, 0.5959140797684191, 0.38123388937979397, 0.6287656793629762, 0.6655602531747491, 0.5401850852451762, 0.17628541944879958, 0.18615825923491142, 0.5056362119808984, 0.17139478364041374, 0.13828074006643784, 0.4378131792507271, 0.6022768143082511, 0.5311877042399871, 0.1479515055952777, 0.41798172118694477, 0.2776056483797737, 0.44440807318468617, 0.5334483193736295, 0.31525452427622597, 0.703309934178376, 0.17702565261987194, 0.17687358751545162, 0.5054692542228443, 0.25141595978155895, 0.840350465556956, 0.1695930390891182, 0.501145327493655, 0.33093245827960366, 0.4287576331679916, 0.7045753778745291, 0.14633005935068472, 0.367567204758194, 0.14664871843752766, 0.5718466519620814, 0.5168442043400124, 0.38192204741546626, 0.45912154742290456, 0.27314741102022705, 0.3193242438817432, 0.14601703946390046, 0.6701739163291756, 0.43993388957031054, 0.28980405885391625, 0.5184857548725327, 0.4415188921619405, 0.6027658174514767, 0.70297808378878, 0.16600183615740316, 0.4026606265399596, 0.18569214999565914, 0.6359728295020566, 0.4038989548881642, 0.4406526792926782, 0.18066804985900045, 0.4763754340740197, 0.36507316743815194, 0.7110114331394841, 0.7573265279944367, 0.2673356220226722, 0.6897989929696338, 0.5248433076099287, 0.31507408027618716, 0.6187646257473505, 0.16049387909466062, 0.253412332779515, 0.2546196945344628, 0.14969910853762783, 0.22400188395371814, 0.28583005575583015, 0.42573515178922405, 0.14355182438673306, 0.25503132895592073, 0.14050573809704883, 0.45489181966958875, 0.16131131594081502, 0.2578398464798583, 0.47333330941028434, 0.3972340029556342, 0.554451187836305, 0.19378854428998787, 0.14083330461260926, 0.1392285207862033, 0.527445561371667, 0.25905920276666655, 0.6456691570052281, 0.29447767731178753, 0.6069678899662536, 0.6028363038000106, 0.4178472670040801, 0.8482338372380266, 0.24777737042452963, 0.503704253995944, 0.47721501748363426, 0.41933458200260604, 0.3611099129653232, 0.4775427267184794, 0.5720879739282686, 0.3825237131679604, 0.19757476573652438, 0.5212864068473122, 0.4761782828750994, 0.14151722078925175, 0.2938894651997748, 0.2779046421199008, 0.28180745437825555, 0.4216520044466404, 0.5961437246646053, 0.1398477608472667, 0.30109022724011325, 0.5287647799185082, 0.5314689060113317, 0.2646974699322811, 0.2515397062096852, 0.3040284515527736, 0.6108555173995436, 0.2771175886225461, 0.4656480996552077, 0.13391357957713204, 0.2495929317279973, 0.3164017441101478, 0.14690560272489228, 0.31138019814667994, 0.7504521389345452, 0.18683433472213226, 0.34833272547548133, 0.14997874933050165, 0.3155577109162391, 0.7251598704635152, 0.49419100765302065, 0.41493207372436525, 0.46585826671465613, 0.2638669872386518, 0.30176274737496367, 0.42135444718441795, 0.4059988552569419, 0.46749200380631745, 0.2098164555938455, 0.4026644485129139, 0.6045923406761167, 0.3683178474191142, 0.37649363435866456, 0.39960139756572466, 0.6081857742729114, 0.381965321382015, 0.18639715922427746, 0.6913501380012465, 0.18970951127967295, 0.32552437555316405, 0.4852226555566334, 0.17720560777230232, 0.4538281838239321, 0.6219108954019025, 0.3753169140060063, 0.3780401770215179, 0.3763344873956831, 0.5260701311677781, 0.2840415928437975, 0.5321869016574658, 0.15442804744657324, 0.17745110938569666, 0.42708569434283034, 0.26128399324362284, 0.2672626660522035, 0.41529401295841906, 0.583135481347984, 0.6152456076415265, 0.2583225471569056, 0.4146911745975394, 0.5407100486419871, 0.14657223739173408, 0.6582732905699973, 0.36206312935361745, 0.3256666424968663, 0.1521480880638127, 0.562174830615649, 0.25208172033904236, 0.45603943537561015, 0.3249290142798361, 0.17707632938687695, 0.648572443843357, 0.5379573927501394, 0.6067257367928416, 0.4286363814046293, 0.5877464597963687, 0.6610409833542682, 0.4723084887345761, 0.7124143412797791, 0.6928002630797845, 0.1609829817045048, 0.36389130294757954, 0.4655165168984262, 0.6255886247939525, 0.307419817944529, 0.5172454619450638, 0.5966905425483054, 0.4596527440906164, 0.6319587636404116, 0.5721931487401727, 0.273902648524051, 0.48071164494044577, 0.43288325083368856, 0.6445986348347509, 0.3539838558222649, 0.32230302583471004, 0.4976552285024923, 0.3462907719354085, 0.44991378276590577, 0.6131665360609564, 0.5171469570439781, 0.33578270622797346, 0.3235406848093169, 0.3864535199909899, 0.24259110492533417, 0.6875878047736815, 0.25770922898966275, 0.5865769291706558, 0.14890173673454693, 0.3466389009691541, 0.14829273054063308, 0.1515622923518662, 0.20112126389823662, 0.1591547552960543, 0.47579544253318584, 0.3591238814518781, 0.1848557573243032, 0.5233866712805824, 0.13769051598804793, 0.14538666389653018, 0.2973729696137081, 0.4271981870496617, 0.8085455682800531, 0.1543127681816876, 0.20590542907224416, 0.2620225818023896, 0.26788028143996057, 0.2608713213365166, 0.3287111093817021, 0.2827866049874362, 0.3533980553238861, 0.5671965852100167, 0.28111245093320725, 0.3268206360373779, 0.7101688495931597, 0.13987870632257116, 0.4086946795854647, 0.13840918223338994, 0.6188010173989951, 0.19802595184456057, 0.7818476868700871, 0.49389980191576444, 0.48082841266023635, 0.2022761799038729, 0.2670720626890581, 0.5661389149598093, 0.3544337054538132, 0.27218298490225007, 0.43666677475896176, 0.13751012921281722, 0.25154281004960244, 0.5999655824328465, 0.24919348459294796, 0.5690089584329395, 0.8179281543772371, 0.5484579609840492, 0.3128421870939578, 0.6043035085141778, 0.5293368900968605, 0.6432104698816761, 0.14914907094991905, 0.2560605362544076, 0.3809378838573135, 0.14790231548372845, 0.26267770097778703, 0.14106183328886254, 0.8619874921321018, 0.4293372837722084, 0.28102667616732224, 0.3234907529785701, 0.21425993003935537, 0.3803777564616478, 0.1373409045721837, 0.6908154015006771, 0.5744021052261991, 0.1575064012910759, 0.5293181390271591, 0.24504118979642173, 0.34994391955333143, 0.2926945548078653, 0.3102516673828502, 0.24807722612678076, 0.3177342318266929, 0.5269105936863138, 0.2120980192410046, 0.713164903971594, 0.4598226127802539, 0.2518987897291192, 0.574117209114552, 0.1804062928997512, 0.43252585469437344, 0.466531405962795, 0.36165121305677345, 0.1386594228764816, 0.6829352830365326, 0.46891501564900645, 0.7249353158641013, 0.3668942635143595, 0.16202329397236725, 0.16141162317897065, 0.5006714855868144, 0.30730810169899936, 0.14490991400035033, 0.5507317978683415, 0.38925528694746797, 0.614801831612253, 0.28854229122356695, 0.16169809390264342, 0.44135321195900795, 0.41112634530993036, 0.3551365175674165, 0.48761561770372547, 0.14594660071348106, 0.2218320349164932, 0.28649990629241373, 0.20725688593245586, 0.6500574172876109, 0.34554573522256893, 0.24907280806674834, 0.15446316593085457, 0.3488966075341361, 0.7287264140767781, 0.36371641977629454, 0.6821961933687058, 0.45148767624533565, 0.7311754789516925, 0.4388943393358211, 0.3864445547470096, 0.4137057600634675, 0.3943485390889879, 0.28757167880975026, 0.5586222014596535, 0.652087635768741, 0.21970021730334546, 0.33869865712115815, 0.15791372146509264, 0.570075945481244, 0.45514121610208214, 0.5871492900751515, 0.26098068133589253, 0.5234362705540846, 0.41170394467081006, 0.1408155339565368, 0.3935987462098184, 0.4220713446108547, 0.16186070675177927, 0.1406968095462164, 0.23939938751440937, 0.21266467479288537, 0.5391071546553194, 0.34612656082341237, 0.4614466698057017, 0.7349148295757565, 0.30301568657352845, 0.43846457881804957, 0.23680744918400032, 0.64375593401055, 0.25231609519564746, 0.25479541439259235, 0.3877108763359105, 0.26003567101480823, 0.6588640072300415, 0.30626831716646463, 0.2683138934586215, 0.7227617111361289, 0.3505084129642188, 0.5903783050333337, 0.28298107257017013, 0.5516175098857501, 0.33651179796065767, 0.25386529718292916, 0.4888172833614515, 0.41708032276712403, 0.24933079918297635, 0.658145878614901, 0.35651272152939617, 0.16717499487028958, 0.32145105589115663, 0.14740556568708613, 0.6643362530339295, 0.6905225262569579, 0.6469950342524501, 0.529747365821381, 0.4874732507575775, 0.14598075929977766, 0.6926060478981577, 0.4231769263759731, 0.7149153246458769, 0.3265363872534989, 0.6040096479146495, 0.18343638328259762, 0.3908762228139828, 0.40478629634548385, 0.5293898319854928, 0.24897121534807043, 0.1765976968939357, 0.25649883435348886, 0.7137246935208813, 0.4552267734632159, 0.694157516046538, 0.15714949804593423, 0.14835479318891712, 0.2354203950575236, 0.5258466866613312, 0.1494481702138952, 0.48496952289510525, 0.5497139792813965, 0.5342136023031984, 0.13845465560648526, 0.6742902469018329, 0.4483718373007848, 0.1607514848231551, 0.47285229579618027, 0.5504423374032137, 0.43473940160658786, 0.7122276582677892, 0.16557207169633287, 0.2085754400613484, 0.28646365232069027, 0.6119980451837675, 0.6568121563207612, 0.15910380760677187, 0.2416214066641181, 0.25002571498990295, 0.3614136589802171, 0.5280784308572285, 0.20048695949708145, 0.13888664096154313, 0.18181703832429852, 0.4277337811271685, 0.1406790775885647, 0.25158609809235527, 0.31076585562227627, 0.5694307829300838, 0.1590194371523713, 0.34015251761237864, 0.21371214406973568, 0.6982307942167788, 0.6348663879870293, 0.32491881155464764, 0.2698617325692444, 0.38639827067208604, 0.3226913438265824, 0.22775754578294422, 0.5259442525716466, 0.1392735298534187, 0.3684364932868855, 0.14116140576345482, 0.5195132405995226, 0.6469598624281253, 0.34104477483323126, 0.28939021827753786, 0.47231771811826456, 0.32632295331780664, 0.41977272776786506, 0.2526625368052186, 0.14763578820864873, 0.36187823331028557, 0.5573891084920136, 0.6843122168827647, 0.335494115144364, 0.15140047597493897, 0.1528403836924835, 0.4080152390290387, 0.2828920317449633, 0.1913856981281386, 0.6214965778807864, 0.2628467194619747, 0.2973166676100991, 0.14314839467532664, 0.40362044449323764, 0.3741185176448453, 0.3595647641041588, 0.4423017166786514, 0.2809255493963118, 0.36924263455989165, 0.6163880554722219, 0.6750634449545442, 0.577357415856357, 0.8502890243841952, 0.6893142030205852, 0.3250052470207557, 0.22249005350734752, 0.24961456502690174, 0.15348497693410715, 0.30973761323505405, 0.20914205220323714, 0.6674732658286604, 0.47576012563852127, 0.44597389953946687, 0.29357537437713893, 0.8195350753096798, 0.2594538906535058, 0.1494142203993474, 0.2815858895846081, 0.6480414356092784, 0.5936628271756332, 0.628605685565987, 0.24842586774986516, 0.5342808517229835, 0.7007397403816589, 0.27717402548365405, 0.45191814312672896, 0.18080300298242197, 0.43740479040299235, 0.6690426257169687, 0.3072267400153066, 0.37443311693278436, 0.6118293195481055, 0.33249520231956914, 0.32029665507996]}\n"
     ]
    }
   ],
   "source": [
    "import requests\n",
    "import json\n",
    "\n",
    "data = {'dataframe_records': X_test.values.tolist()}\n",
    "headers = {\"Content-Type\": \"application/json\"}\n",
    "\n",
    "response = requests.post(\"http://localhost:8003/invocations\", data=json.dumps(data), headers=headers)\n",
    "predictions = response.json()\n",
    "\n",
    "print(predictions)"
   ]
  },
  {
   "cell_type": "code",
   "execution_count": 146,
   "id": "178ea0d3-d700-45e9-bfb9-792861506fa2",
   "metadata": {},
   "outputs": [
    {
     "name": "stdout",
     "output_type": "stream",
     "text": [
      "{'predictions': [0.7705540198926089, 0.37462207138442305, 0.4921878265214799, 0.604500514803149, 0.705881459405687, 0.5508621848671245, 0.11741302818996142, 0.20920856203068738, 0.32175523835703546, 0.2850466298285975, 0.3074924831044555, 0.325565928815485, 0.6881860239163005, 0.2096755607398636, 0.6916816057379933, -0.000775903375678141, 0.3790637203808388, 0.34715313327034947, 0.4976239904632732, 0.18099887013548366, 0.2779182616755589, 0.6998948824544544, 0.14564156031051362, 0.5905807212232268, 0.43511460045566386, 0.561205671068344, 0.3044810228417805, 0.11927100439571231, 0.12135673596507601, 0.07253387502092551, 0.5994795110345938, 0.4005102082070465, 0.13122613446095888, 0.2429738549742947, 0.12411487626635297, 0.711293624326541, 0.2988515091474599, 0.6736739495804415, 0.4686230094102715, 0.34427892207646754, 0.32557129606299573, 0.6308253006999281, 0.09369064824214023, 0.3488627034014346, 0.4916176843625486, 0.15046454925949068, 0.3810816628667369, 0.13150106178607973, 0.3356665584168437, 0.3357848388289288, 0.8523732354719137, 0.3146680528226577, -0.009934282905892888, 0.66918485557816, 0.1775969934516645, 0.12710010287649393, 0.0505551428810952, 0.2591478513486333, 0.08755116409852116, 0.28076151307779673, 0.303354268223791, 0.26080662252439885, 0.4685051627914592, 0.4852795772699083, 0.23314438898908993, 0.35899009020132727, 0.4386034548776918, 0.15930232729074256, 0.13555524099154015, 0.41674283011784985, 0.566908034610597, 0.09889432155817247, 0.18014359208434447, 0.31731911371358, 0.5064433705357125, 0.5521124404088482, 0.5880861436823516, 0.0886543105848271, 0.4668901190694065, 0.8123660440519224, 0.5500563593574922, 0.5779856950548452, 0.7499244596836692, 0.3479865743613359, 0.22645033800440864, 0.3251340452889065, 0.5277745754717061, 0.11921486071007929, 0.48444142967940057, 0.17350420376974707, 0.4490136638073376, 0.22044325628602415, 0.19898421049890946, 0.24986114835097584, 0.3321663985347227, 0.6897816125469853, 0.34482291130550546, 0.4571547072625604, 0.18429857839992245, 0.21772771851137598, 0.500198544497604, 0.10575558810649865, 0.18724366530437858, 0.6956737775923603, 0.36784985002516835, 0.5600887384082615, 0.22900903048009566, 0.16749576233841437, 0.5127279427415381, 0.534165406191395, 0.21997421480621857, 0.29287229356178496, 0.2770571894412528, 0.4545262578059656, 0.16952995550073927, 0.43291614137459766, 0.3613598005243048, 0.5570307154430505, 0.04649002585800767, 0.15297487229835033, 0.4738443011249364, 0.2654103134585014, 0.6819317141152271, 0.491290645121369, 0.06701735871613733, 0.34935272336385936, 0.06307803269272177, 0.1330308662375047, 0.6873298625818137, 0.46875144943755315, 0.18412159250240234, 0.3110189956533938, 0.20148225674491202, 0.553715472301877, 0.5845952863813512, 0.18469101393263565, 0.36252349668864264, 0.17088968403230376, 0.14592744238997854, 0.5691654478070162, 0.3732577909657855, 0.21859543705325934, 0.14634007945195057, 0.49054584003438545, 0.4751557103481883, 0.12483097733791748, 0.3268214340822188, 0.2329928600579616, 0.3166773956333843, 0.14924173326787152, 0.26886780094998325, 0.06814034534514167, 0.5363486233319199, 0.4592612934488106, 0.09859048946845395, 0.2537650860699435, 0.4563293698031745, 0.46836983917109254, 0.5052548063968736, 0.32615350775323637, 0.19045894527154478, 0.1682315443808159, 0.5400362416761191, 0.49616012189335107, 0.29540822245275333, 0.2531666860946014, 0.3949183327439851, 0.3712062562819642, 0.09117609140770372, 0.187456078333165, 0.23280673487647727, 0.23146572406031096, 0.3647900777010966, 0.04129020751162148, 0.7412590256544876, 0.5381221198589214, 0.2646365118616593, 0.5654498866319806, 0.5080582191282783, 0.5744809523934027, 0.06078214742903445, 0.13964103549284157, 0.32154658404320596, 0.3027027314891694, 0.31297794460918654, 0.021796842551538322, 0.23423340544834112, 0.4064438823825713, 0.6079126770673118, 0.4344892644322246, 0.1578577715292277, 0.4514700165449737, 0.391817377609251, 0.4576500797964066, 0.6770302279065092, 0.20648219464902068, 0.2693188445098173, 0.023452410647927142, 0.5190627207803762, 0.38579946113998315, 0.713913518277245, 0.36848309659961637, 0.22814595552307362, 0.031828392983743126, 0.19666878712658156, 0.542364839955718, 0.5651313875934633, 0.2557976362254517, 0.19752033378349396, 0.5466908347579851, 0.6127451218207787, 0.268277889955632, 0.21315851751569273, 0.5680440146495006, 0.3289527294204133, 0.5336324416203829, 0.20259514538186885, 0.1929204805104556, 0.5411151502737028, 0.3003149063011728, 0.4728402035829931, 0.4528628621136286, 0.2758388768298772, 0.5033864664523924, 0.34080113557172137, 0.49414034311457294, 0.7198340173988774, 0.684167619920118, 0.33776640122857376, 0.6055556859042016, 0.4102089694379302, 0.4357657416739023, 0.6968610208927791, 0.4720328259166716, 0.39664949778519, 0.4926504779805542, 0.14970972058576185, 0.45538124736836066, 0.356969019556283, 0.6133433243307753, 0.5061780091245032, 0.23035858661195208, 0.3351898308859884, 0.6865616799073612, 0.1511267956009354, 0.4398229653920938, 0.6131585759744259, 0.3175804168310674, 0.12407050261002199, 0.33457202960112215, 0.4454637513640927, 0.30248938701465006, 0.29064323202519593, 0.30450858562106714, 0.5740889382411557, 0.2824427970012013, 0.7509942430144001, 0.8316773402878016, 0.41198089034485874, 0.2982365381285887, 0.715520757246049, 0.8100019563472455, 0.16171531713160198, 0.3016195559786279, 0.3234095129283446, 0.4552246986708301, 0.5959667397959675, 0.598230063523323, 0.09822823452531891, 0.45065174737841396, 0.3129034287015907, 0.5425753524176383, 0.22276397706079104, 0.4632505307100092, 0.6030321514561515, 0.13578896885874983, 0.4291232196906963, 0.20146725975975466, 0.1016640511816097, 0.4558685367221509, 0.28896439338860574, 0.31824948792216157, 0.07127773751294642, 0.48740633125655564, 0.5151263784463012, 0.22577310959725228, 0.44962363456181703, 0.49381782100327865, 0.1659985435169025, 0.13738675072463832, 0.17566974875264255, 0.1773025457582, 0.4332037104355283, 0.3190597992171703, 0.24661013018678535, 0.19463626684751656, 0.5207869074423775, 0.35716314710025715, 0.36641212740941614, 0.33286693248612925, 0.29677977569728836, 0.3154869254478028, 0.5273102124942554, 0.1210552795910676, 0.45660703937933445, 0.7347959486423601, 0.2296750054591989, 0.6736493045308559, 0.1256951235871756, 0.3448111643924687, 0.17398174143129985, 0.5726968002243851, 0.3129722193384049, 0.7326987068046172, 0.3502069407594764, 0.2835732694188756, 0.6079763656205387, 0.34002396200182744, 0.48490576716263545, 0.7695307234978649, 0.2160024250693199, 0.280142334042704, 0.23941657541394443, 0.5075389267819937, 0.6079002653726538, 0.15035802352760969, 0.2893826998876097, 0.2739253259716088, 0.29131497336597983, 0.287619951482845, 0.04714916619824787, 0.7953981039070053, 0.14101472293617304, 0.26135891604702094, 0.4538763919129053, 0.467410603916245, 0.10085108462108686, 0.4789291158585225, 0.4044967067716756, 0.6281612624760021, 0.6353172223756555, 0.32460910374575686, 0.07971831445784498, 0.6544169842201943, 0.5602714211653563, 0.6006167797311879, 0.892853778114848, 0.23032353102730252, 0.37624079935496824, 0.7188265273276554, 0.48482988376336383, 0.2237330637505831, 0.6479782594000172, 0.4741155622513926, 0.39216947940570634, 0.3335324937468724, 0.16728728313262242, 0.4133417646636912, 0.36515225731877027, 0.4938856759044419, 0.19930684854360653, 0.2649414539045305, 0.487909666765668, 0.19903893842960507, 0.7537320786821804, 0.3987142941268837, 0.15245854386448326, 0.5884546603365498, 0.42609080923088083, 0.5323543277310616, 0.4741970644919218, 0.11004559700124396, 0.25272585006611287, 0.3401922546756838, 0.09896904038687154, 0.3029652191940723, 0.35689645980079965, 0.686908206661866, 0.2953676676293447, 0.3725348172038324, 0.4395788469052477, 0.9243332237104877, 0.16339720464019222, 0.06742699948637752, 0.8692125673271544, 0.09797558388116341, 0.35939268503218913, 0.24008630017534785, 0.39891697036185175, 0.6122413578341401, 0.4692278147550052, 0.437925735138958, 0.8002066921066928, 0.5164316312371676, 0.34356494135689297, 0.6671420837450078, 0.32232251849398225, 0.5165927412797796, 0.8632711270372122, 0.32964896655382436, 0.36483435391050684, 0.013148875113036846, 0.018864077132571645, 0.10345121489481768, 0.24193592147574144, 0.24155078494230756, 0.17225542837565974, 0.6649928602668141, 0.2151304164117975, 0.5715153055479479, 0.29156799479128703, 0.5341302794119716, 0.19823570050436715, 0.31299858857192026, 0.21627111728315124, 0.3343533403656862, 0.1702724388847136, 0.5870888600767501, 0.44358552571301135, 0.4205690860698596, 0.6868776502053979, 0.2846798979000795, 0.46713295458591114, 0.27524268392275236, 0.3577633435529901, 0.2971500485368191, 0.4470239792785392, 0.34729726740327516, 0.1507002740799279, 0.2868274432566237, 0.43737434256585944, 0.030327387320632795, 0.2822229758880388, 0.18815296093810283, 0.5448260988450739, 0.5855933809903716, 0.5586517106621781, 0.183102245057472, 0.673631986430867, 0.18307165684672896, 0.364363965954371, 0.31377311067338554, 0.6237800346387236, 0.15191651604748108, 0.2936235424113089, 0.27315842304401045, 0.1022617606059589, 0.44426569600964944, 0.6351997160210651, 0.08792294333177673, 0.230981706466278, -0.019115932842822158, 0.27529418145227486, 0.5942283951863464, 0.39456830358416173, 0.336477500421706, 0.763221438781954, 0.1970373002512955, 0.30793270933459704, 0.37964065464237856, 0.3650691050161274, 0.6931661463965509, 0.5184320221507056, 0.20869961275062612, 0.744226858348416, 0.047970318639062856, 0.6071540231536046, 0.26993203625120954, 0.47801173951521, 0.5312938808122065, 0.3579814678605148, 0.7382692799543652, 0.28403617255482333, 0.2612096031881786, 0.1960858719729531, 0.7054148546310915, 0.24537686694040448, 0.30977657135462755, 0.24745463201829881, 0.3193643282668696, 0.13835476579466874, 0.09058426197859627, 0.47835025440630924, 0.15522421009015858, 0.21878381641851766, 0.40569943457238217, 0.4884547284361617, 0.31879910650265864, 0.5654197428494586, 0.6596953727439255, 0.340516274563254, 0.36217793298788803, 0.4689411772710751, 0.8063639300809655, 0.2038853429523964, 0.5753855925509515, 0.4320814857594326, 0.45774804350060716, 0.5153344916457129, 0.1355769636893201, 0.24155356308459366, 0.33866308022224884, 0.6467706341360137, 0.16650218708168574, 0.752852956565037, 0.15377908552412717, 0.22396838755755577, 0.4680329937441591, 0.38024264834346966, 0.04542423643412757, 0.665286186682634, 0.6285398858602463, 0.5053716913451308, 0.26575415673397745, 0.22797268004302812, 0.24934252059434286, 0.39376361003217486, 0.12797083812416535, 0.3867086734929335, 0.09130015354781516, 0.33407092278931255, 0.6130594117284822, 0.08813875571570931, 0.3570217095649193, 0.6772446471717232, 0.5003266892457496, 0.8772774119237404, 0.6995042979094938, 0.6740173345264754, 0.22705985173273202, 0.6496451271462054, 0.2299193704514582, 0.323721258713259, 0.6899747665607614, 0.3569489400116002, 0.2932505280517484, 0.7513452961549867, 0.4202024324449371, 0.7524720091293666, 0.4010424975762084, 0.8498433072510664, 0.5694460343114385, 0.21293208152687804, 0.25400697484322887, 0.12680491172175135, 0.5391456486711762, 0.5351339146384786, 0.13490063598127136, 0.6014913777343095, 0.7763288598026378, 0.08982061197365936, 0.7095400421160224, 0.40085532259293954, 0.4285591178402614, 0.22923140419285243, 0.7060233650177972, 0.6155501464173246, 0.892482934619502, 0.6938614999805982, 0.2782287500012703, 0.1985728953262215, 0.43440393438820785, 0.2312169654158566, 0.27938034270937395, 0.12530129359500516, 0.26360345850005373, 0.7994707731478563, 0.4188755476220171, 0.5930185823410831, 0.4565705776220961, 0.2272774224768262, 0.5157521707109443, 0.33366094656094997, 0.1363475492988416, 0.28466481307964403, 0.730215096224748, 0.2883358785403307, 0.14975034036268442, 0.35116461304410035, 0.6430412807089231, 0.08061985297613056, 0.6055300102685222, 0.3231469637974736, 0.23254189980126436, 0.3814398432750157, 0.40972900644144605, 0.42200318900671707, 0.4478800892999478, 0.5050186015316915, 0.1002489579389149, 0.7025335821424293, 0.2187439918992525, 0.7601141296075316, 0.6540406504766518, 0.22891150517397824, 0.4608590891530909, 0.2272853446042184, 0.36200095906815505, 0.46302688093586136, 0.30790698321649684, 0.5793644233949007, 0.6370963416968752, 0.6497065372682237, 0.36615111517923243, 0.20113087798664325, 0.5559341756911462, 0.26590190474088105, 0.7739312717150477, 0.5484592607356961, 0.6357924442873252, 0.8262218515719704, 0.8072282345071935, 0.2896188952161929, 0.06894372507549291, 0.3532022911734872, 0.5791229293650374, 0.5091119228270486, 0.11984769120249313, 0.12499096645181812, 0.4694534465733733, 0.24288043887217087, 0.4146174616728935, 0.8195178473346169, 0.22250372731240042, 0.27009053271886924, 0.681366786569455, 0.26042844042939334, 0.4488576464290348, 0.7150984519516712, 0.3137923189828026, 0.7287324778877132, 0.43259276871557634, 0.6003311944118886, 0.31276717252163494, 0.2931831808151971, 0.8024821992657156, 0.3032792107094537, 0.6471077819837399, 0.4119616179135422, 0.10819733265461774, 0.37635641455654334, 0.1483633140190625, 0.5616165786500396, 0.901791212331687, 0.4862970069059276, 0.20758599952790838, 0.6642157549564227, 0.4456711596249414, 0.11629740133957811, 0.2775604437809797, 0.34742245513078757, 0.40120150932704934, 0.24795934327145158, 0.4982470931978878, 0.3587721459727264, 0.3682106286415943, 0.25843398289245145, 0.5963185760713986, 0.4770320458106799, 0.46553842690568864, 0.33016305549272124, 0.23941315269707486, 0.17676303117859957, 0.19727382375558863, 0.396880751544632, 0.4447629237018298, 0.4749531160385883, 0.6440875563342202, 0.4677123701432349, 0.7657894638149302, 0.7111876369767166, 0.5262940767708709, 0.11499851884022766, 0.15386557855181146, 0.44391053455926444, 0.05252965246630809, 0.09653146965273209, 0.5717448522827923, 0.6067147414975658, 0.5038705146475532, 0.1513999711636711, 0.5055158477802533, 0.22697503856615747, 0.46740642556522993, 0.5268426132603246, 0.353868949645328, 0.8829343790783496, 0.18521717241330224, 0.19614415475912367, 0.5964230752673323, 0.23663761386022483, 0.7573613659160542, 0.20915862226045848, 0.49183025631466276, 0.2972903781982123, 0.6109375935250025, 0.6618722280929625, 0.08590587837477864, 0.2519684866344186, 0.052784301369177666, 0.6872630810065842, 0.5363910636791459, 0.48542092186475905, 0.659364675024191, 0.2938894198435729, 0.3498042413472607, 0.08273895997151938, 0.6296303615237505, 0.48041437969147993, 0.22633081331077534, 0.6120227664642485, 0.34396854747421884, 0.6859733623548132, 0.7347579073960195, 0.1544002909168048, 0.4173292703856442, 0.17520883428710943, 0.6250156162927922, 0.3384890044831028, 0.4385135028838873, 0.17834161277159377, 0.4445627551557595, 0.32127420888362695, 0.7761311348988977, 0.6969320655088703, 0.2228514513643491, 0.7498649022909658, 0.5033368297888192, 0.40231832771427845, 0.6591547498808329, 0.3070069571520925, 0.30208516410965125, 0.16457584517117607, 0.10384616653275379, 0.2465709649117963, 0.25815035549690224, 0.42107350644821556, 0.07036810394191743, 0.12984107662861405, 0.20162049309028354, 0.6006315938325502, 0.1155422627875744, 0.19423407383958938, 0.5912375981739469, 0.3724964196456703, 0.5180512071644314, 0.12325500567559887, 0.057371446057475586, 0.0659359920799639, 0.5580579354582366, 0.28104515096102495, 0.8042874456574701, 0.22096444861178957, 0.3698883364354251, 0.5894427144365642, 0.48590245162958084, 0.8153511184809679, 0.14483215101249833, 0.5833102889658708, 0.45430794331406654, 0.3475717536254533, 0.417937108901219, 0.5636200428901865, 0.5454262622547341, 0.4108201544232146, 0.18883311248913515, 0.49467273036938414, 0.4278240640050466, 0.1323095927033508, 0.20623759226211985, 0.24461455421751924, 0.36605603325913866, 0.43066054346238763, 0.5862792713167108, 0.10003643429840034, 0.32630877652142304, 0.5162699790200833, 0.5557700564163267, 0.34183169656091067, 0.23134108322016966, 0.31051834787520005, 0.5907230861234789, 0.32560018330401724, 0.34994288314159944, 0.201014622147345, 0.25160948363203983, 0.24994384722103546, 0.07690379009695789, 0.2924322015705864, 0.7788518346911141, 0.20452617082006552, 0.32881396057944257, 0.10426994196472239, 0.5420722015945902, 0.7338828735394937, 0.5806088839119442, 0.39920684708284665, 0.4529180885689193, 0.29511568436897156, 0.351788567333599, 0.28395238042309295, 0.4202806363322188, 0.48178843254723297, 0.11771888220544252, 0.34678016474287254, 0.6376641345921278, 0.4569706596859141, 0.35780318306612013, 0.6768255532340052, 0.6407703586183742, 0.34160910581738335, 0.20662960062850325, 0.6893073800024959, 0.14655293753343154, 0.41687460156772893, 0.4954748179475327, 0.19538647708263587, 0.42584638382311873, 0.6843628571764563, 0.40996113693031316, 0.43353980947356435, 0.3155048466347001, 0.5865944603094595, 0.3689866398062212, 0.560729802985761, 0.2995076673295783, 0.2056624782816874, 0.3999480390704314, 0.25297299234049087, 0.18447934145513645, 0.5431045177186944, 0.6278435822527537, 0.6734737790723848, 0.24295619440095648, 0.39348656270674154, 0.5270452455915198, 0.1011355505516957, 0.6043282956385534, 0.2553786287678588, 0.49131279578872494, 0.14754936066098148, 0.615562749759156, 0.1251321006686096, 0.46793549696424425, 0.2881319407638612, 0.08299556407680819, 0.6554892412604318, 0.5627351559037109, 0.6073184833497159, 0.5804849662976063, 0.5604649096443884, 0.8261580426165853, 0.5104851639396794, 0.7326278612764726, 0.7221014701185896, 0.1741061709689166, 0.32027744486858106, 0.48073703117931726, 0.7084736547572423, 0.25300099880551147, 0.5286111184188935, 0.65241515517771, 0.46768114163920566, 0.7050261538391734, 0.5099060601073621, 0.3427012188553245, 0.4776873101780955, 0.48486448142733124, 0.6788144167292225, 0.2485851527107045, 0.2909922752896294, 0.5748855624651195, 0.34088427277131633, 0.4487811683548865, 0.7029260535763241, 0.4901377275711315, 0.26917891257580095, 0.34677843533843256, 0.49709903698905894, 0.22656035696240073, 0.6932058114424648, 0.24114790935020397, 0.6366627271580975, 0.09948707505592129, 0.17028128087906558, 0.12050080084334025, 0.13338734183741494, 0.26910221380656707, 0.05718845574608779, 0.4363921072235358, 0.28116831679160703, 0.2028251069417989, 0.4574152022666683, 0.0005491031561849632, 0.09257792547978178, 0.3104478820966564, 0.3182141809459447, 0.8919944041662025, 0.12400621586911711, 0.3184437959679436, 0.2324423412335007, 0.28518607049965355, 0.10335048819836824, 0.3174420663822514, 0.3015091609554862, 0.2683530388330103, 0.5185920976081606, 0.2736787137519859, 0.2266741269280731, 0.782380009925996, 0.13968175421450324, 0.47837366206052634, 0.2109524572729777, 0.6537368266721473, 0.12784002136758735, 0.9033071397514062, 0.524849722009008, 0.51480126113324, 0.09182424210636758, 0.1445363295364161, 0.5510707721189336, 0.4356364569196081, 0.5312124869664984, 0.513132490426283, 0.03898186594415728, 0.2435273122301274, 0.722253547289541, 0.14992459481528303, 0.5074743957092568, 0.9422038753937612, 0.5898688862088407, 0.41712365968397197, 0.578615272630089, 0.5624726295134735, 0.6886185431313404, 0.11327272006916596, 0.1583772487138941, 0.29235618320127055, 0.1579553353615349, 0.2312621564471262, 0.06260812337204537, 0.904179399380919, 0.5055132581950683, 0.22072911317594324, 0.1812412066005541, 0.3304664887421051, 0.3921450387736505, 0.11572841419977767, 0.5870238646764825, 0.5518330091832025, 0.11687365364293159, 0.546281804583495, 0.2693133561508524, 0.2546447074925261, 0.29394382151216597, 0.24920571673564362, 0.09573440142750968, 0.3699270862072994, 0.5400121697929576, 0.1423204303013279, 0.7596975617420405, 0.39875171206197213, 0.19721370504772875, 0.5283864608815959, 0.1265056246534893, 0.5330204819362301, 0.49879982143169077, 0.3112832995118429, 0.07344149554722963, 0.6221385099521641, 0.608431392116166, 0.7270873961457593, 0.6871872051021541, 0.10837904995651278, 0.05195428338026647, 0.6195694137643052, 0.42165106872327024, 0.06468567308368615, 0.6036117818176376, 0.3856464735147238, 0.7955068500389898, 0.26111328452985116, 0.2159714578678763, 0.4040514157604172, 0.3403644350086584, 0.42349615095881804, 0.5305412937266079, 0.2704626283369472, 0.15524039800726, 0.3299789040037828, 0.11337898553537755, 0.573871074070688, 0.32624799242977154, 0.46021611955212677, 0.08539472541739855, 0.43361126917420467, 0.7196309517043143, 0.3582291295309478, 0.6592600221525095, 0.49682484947549105, 0.7232278249539915, 0.42490303924943074, 0.48610135970171003, 0.4231942483138241, 0.2805538508517914, 0.24222424986887317, 0.5313103985747007, 0.6873618301283526, 0.10259735405469646, 0.33938607770781065, 0.2364629784970417, 0.5951356075570798, 0.4880778429389228, 0.5184495052908037, 0.2375079830322655, 0.47166443367412303, 0.40541817805678715, 0.07607487292915205, 0.41882294204907744, 0.45432935941587815, 0.12456455686595479, 0.05471119702097387, 0.14353091510595148, 0.27930998826863984, 0.4939630721750696, 0.31895714204751296, 0.4855253173266861, 0.8829899473117517, 0.4699136653277798, 0.41756150808004416, 0.2352738926093384, 0.6853723068794687, 0.23026367157887, 0.2064758438014312, 0.4667500831780622, 0.21592531848881455, 0.6540368648522463, 0.30434911409032167, 0.22813756507970145, 0.7176332055713676, 0.4875544757520021, 0.5554758427900287, 0.3109624408887319, 0.575433284832371, 0.5029915213151145, 0.3241487884716422, 0.5909968403417845, 0.35891558649092165, 0.2403511480315209, 0.6911549035906431, 0.2623481306597455, 0.31691673871038506, 0.3248617024120295, 0.1886747702762425, 0.6967214518461972, 0.791859291787407, 0.6022354125828024, 0.4972442199912409, 0.469782094753563, 0.11210171691534675, 0.6638171181501898, 0.3368700995689522, 0.7369937621329992, 0.35806481350815866, 0.7018653241020778, 0.12529228883632496, 0.5793921365262275, 0.37712706772732557, 0.4110768651062293, 0.2421037408485658, 0.0530399490137401, 0.21303256468665005, 0.7922520328031337, 0.41399797767503366, 0.6167192852740978, 0.20130291754242083, 0.10148317216912828, 0.20491965461927722, 0.5155341875671909, 0.18583930143915597, 0.48589822975909325, 0.5017587363807413, 0.5403727657644839, 0.14656409802555748, 0.6998632547561368, 0.5011464510039917, 0.3114696627865974, 0.6643139760670597, 0.6357372535999184, 0.5160945809615645, 0.6710588982366325, 0.039749693194833936, 0.1552926793065749, 0.20305766090317706, 0.7087965774527958, 0.6773234707340868, 0.09113198391032004, 0.3499925642067486, 0.25161410965020614, 0.22689154814286597, 0.5909222665378941, 0.11782600362794124, 0.22032178427735655, 0.19414290466075512, 0.4396840854078231, 0.035485106240719766, 0.3608924181045829, 0.3265297633827775, 0.5802507966346161, 0.19417421001544802, 0.302635497714534, 0.31120018964255114, 0.6288591151169995, 0.7662454451421383, 0.20015895499232222, 0.2437080531826164, 0.3908815269888441, 0.31793512927241585, 0.17339123676904528, 0.49727573909654177, 0.07640500601463485, 0.3738608433050732, 0.1319034885438086, 0.5350989044694029, 0.6446179663053465, 0.36233703624056235, 0.4067812618678268, 0.5296673700469383, 0.290676397022589, 0.3287077716285147, 0.17858301319400682, 0.16180538256118257, 0.24660422171316307, 0.5775526901254189, 0.7202835334992019, 0.3387972271952454, 0.12916608683339564, 0.13880344120500007, 0.36782130330544427, 0.32975056952434756, 0.16189885114704533, 0.6368939895284074, 0.4104058760036316, 0.2667735436423612, 0.1753026252861011, 0.4626819077800148, 0.41458245685665035, 0.3323816820669869, 0.5355269904106287, 0.3608195604208383, 0.45678790470850283, 0.5148279401943789, 0.6439759172024143, 0.6048789408215446, 0.8274142857434376, 0.6664868019437873, 0.442179623326976, 0.340157159543044, 0.24897264112680936, 0.21877405986269233, 0.30246672434312194, 0.2865121913614859, 0.6725956679714825, 0.6078318609209539, 0.5406409089122953, 0.3199452746091275, 0.7578883477428873, 0.25068622827882686, 0.1381432178125193, 0.3139834579334038, 0.6900128398861862, 0.6087324510988853, 0.5529236094051251, 0.30185348998603445, 0.45242891957812637, 0.755016043376189, 0.2681330642473037, 0.4506979572958895, 0.20686484476247485, 0.5135029738996262, 0.4908011671005058, 0.3193917229115042, 0.38496521628614133, 0.6953989275444152, 0.3211785200361403, 0.32295868823154067]}\n"
     ]
    }
   ],
   "source": [
    "import requests\n",
    "import json\n",
    "\n",
    "data = {'dataframe_records': X_test.values.tolist()}\n",
    "headers = {\"Content-Type\": \"application/json\"}\n",
    "\n",
    "response = requests.post(\"http://localhost:8004/invocations\", data=json.dumps(data), headers=headers)\n",
    "predictions = response.json()\n",
    "\n",
    "print(predictions)"
   ]
  },
  {
   "cell_type": "code",
   "execution_count": null,
   "id": "86af6e87-228f-4c3a-b927-801de5f704ab",
   "metadata": {},
   "outputs": [],
   "source": []
  }
 ],
 "metadata": {
  "kernelspec": {
   "display_name": "Python 3 (ipykernel)",
   "language": "python",
   "name": "python3"
  },
  "language_info": {
   "codemirror_mode": {
    "name": "ipython",
    "version": 3
   },
   "file_extension": ".py",
   "mimetype": "text/x-python",
   "name": "python",
   "nbconvert_exporter": "python",
   "pygments_lexer": "ipython3",
   "version": "3.12.4"
  }
 },
 "nbformat": 4,
 "nbformat_minor": 5
}
